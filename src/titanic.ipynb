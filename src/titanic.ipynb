{
 "cells": [
  {
   "cell_type": "markdown",
   "metadata": {},
   "source": [
    "# 名企作业 2020-11-21, 石敏"
   ]
  },
  {
   "cell_type": "markdown",
   "metadata": {},
   "source": [
    "## Action 2"
   ]
  },
  {
   "cell_type": "markdown",
   "metadata": {},
   "source": [
    "## 对Titanic数据进行清洗，使用之前介绍过的10种模型中的至少2种（包括TPOT）\n",
    "数据集地址：https://github.com/cystanford/Titanic_Data\n",
    "\n",
    "数据集中的字段描述： PassengerId 乘客编号 Survived 是否幸存 Pclass 船票等级 Name 乘客姓名 Sex 乘客性别 SibSp 亲戚数量（兄妹、配偶数） Parch 亲戚数量（父母、子女数） Ticket 船票号码 Fare 船票价格 Cabin 船舱 Embarked 登录港口"
   ]
  },
  {
   "cell_type": "code",
   "execution_count": 1,
   "metadata": {},
   "outputs": [],
   "source": [
    "# MLFrame.py 是根据核心课上学习的内容，我自己改写的一个不同AI算法的调用框架\n",
    "import MLFrame as mlf\n",
    "ml = mlf.MLearning()"
   ]
  },
  {
   "cell_type": "code",
   "execution_count": 2,
   "metadata": {
    "tags": []
   },
   "outputs": [
    {
     "output_type": "stream",
     "name": "stdout",
     "text": "The shape of train set：(891, 12)\nThe shape of test set：(418, 11)\n"
    }
   ],
   "source": [
    "ml.read_train('./titanic/train.csv')\n",
    "ml.read_test('./titanic/test.csv')"
   ]
  },
  {
   "cell_type": "code",
   "execution_count": 3,
   "metadata": {},
   "outputs": [
    {
     "output_type": "execute_result",
     "data": {
      "text/plain": "     PassengerId  Survived  Pclass  \\\n0              1         0       3   \n1              2         1       1   \n2              3         1       3   \n3              4         1       1   \n4              5         0       3   \n..           ...       ...     ...   \n886          887         0       2   \n887          888         1       1   \n888          889         0       3   \n889          890         1       1   \n890          891         0       3   \n\n                                                  Name     Sex   Age  SibSp  \\\n0                              Braund, Mr. Owen Harris    male  22.0      1   \n1    Cumings, Mrs. John Bradley (Florence Briggs Th...  female  38.0      1   \n2                               Heikkinen, Miss. Laina  female  26.0      0   \n3         Futrelle, Mrs. Jacques Heath (Lily May Peel)  female  35.0      1   \n4                             Allen, Mr. William Henry    male  35.0      0   \n..                                                 ...     ...   ...    ...   \n886                              Montvila, Rev. Juozas    male  27.0      0   \n887                       Graham, Miss. Margaret Edith  female  19.0      0   \n888           Johnston, Miss. Catherine Helen \"Carrie\"  female   NaN      1   \n889                              Behr, Mr. Karl Howell    male  26.0      0   \n890                                Dooley, Mr. Patrick    male  32.0      0   \n\n     Parch            Ticket     Fare Cabin Embarked  \n0        0         A/5 21171   7.2500   NaN        S  \n1        0          PC 17599  71.2833   C85        C  \n2        0  STON/O2. 3101282   7.9250   NaN        S  \n3        0            113803  53.1000  C123        S  \n4        0            373450   8.0500   NaN        S  \n..     ...               ...      ...   ...      ...  \n886      0            211536  13.0000   NaN        S  \n887      0            112053  30.0000   B42        S  \n888      2        W./C. 6607  23.4500   NaN        S  \n889      0            111369  30.0000  C148        C  \n890      0            370376   7.7500   NaN        Q  \n\n[891 rows x 12 columns]",
      "text/html": "<div>\n<style scoped>\n    .dataframe tbody tr th:only-of-type {\n        vertical-align: middle;\n    }\n\n    .dataframe tbody tr th {\n        vertical-align: top;\n    }\n\n    .dataframe thead th {\n        text-align: right;\n    }\n</style>\n<table border=\"1\" class=\"dataframe\">\n  <thead>\n    <tr style=\"text-align: right;\">\n      <th></th>\n      <th>PassengerId</th>\n      <th>Survived</th>\n      <th>Pclass</th>\n      <th>Name</th>\n      <th>Sex</th>\n      <th>Age</th>\n      <th>SibSp</th>\n      <th>Parch</th>\n      <th>Ticket</th>\n      <th>Fare</th>\n      <th>Cabin</th>\n      <th>Embarked</th>\n    </tr>\n  </thead>\n  <tbody>\n    <tr>\n      <th>0</th>\n      <td>1</td>\n      <td>0</td>\n      <td>3</td>\n      <td>Braund, Mr. Owen Harris</td>\n      <td>male</td>\n      <td>22.0</td>\n      <td>1</td>\n      <td>0</td>\n      <td>A/5 21171</td>\n      <td>7.2500</td>\n      <td>NaN</td>\n      <td>S</td>\n    </tr>\n    <tr>\n      <th>1</th>\n      <td>2</td>\n      <td>1</td>\n      <td>1</td>\n      <td>Cumings, Mrs. John Bradley (Florence Briggs Th...</td>\n      <td>female</td>\n      <td>38.0</td>\n      <td>1</td>\n      <td>0</td>\n      <td>PC 17599</td>\n      <td>71.2833</td>\n      <td>C85</td>\n      <td>C</td>\n    </tr>\n    <tr>\n      <th>2</th>\n      <td>3</td>\n      <td>1</td>\n      <td>3</td>\n      <td>Heikkinen, Miss. Laina</td>\n      <td>female</td>\n      <td>26.0</td>\n      <td>0</td>\n      <td>0</td>\n      <td>STON/O2. 3101282</td>\n      <td>7.9250</td>\n      <td>NaN</td>\n      <td>S</td>\n    </tr>\n    <tr>\n      <th>3</th>\n      <td>4</td>\n      <td>1</td>\n      <td>1</td>\n      <td>Futrelle, Mrs. Jacques Heath (Lily May Peel)</td>\n      <td>female</td>\n      <td>35.0</td>\n      <td>1</td>\n      <td>0</td>\n      <td>113803</td>\n      <td>53.1000</td>\n      <td>C123</td>\n      <td>S</td>\n    </tr>\n    <tr>\n      <th>4</th>\n      <td>5</td>\n      <td>0</td>\n      <td>3</td>\n      <td>Allen, Mr. William Henry</td>\n      <td>male</td>\n      <td>35.0</td>\n      <td>0</td>\n      <td>0</td>\n      <td>373450</td>\n      <td>8.0500</td>\n      <td>NaN</td>\n      <td>S</td>\n    </tr>\n    <tr>\n      <th>...</th>\n      <td>...</td>\n      <td>...</td>\n      <td>...</td>\n      <td>...</td>\n      <td>...</td>\n      <td>...</td>\n      <td>...</td>\n      <td>...</td>\n      <td>...</td>\n      <td>...</td>\n      <td>...</td>\n      <td>...</td>\n    </tr>\n    <tr>\n      <th>886</th>\n      <td>887</td>\n      <td>0</td>\n      <td>2</td>\n      <td>Montvila, Rev. Juozas</td>\n      <td>male</td>\n      <td>27.0</td>\n      <td>0</td>\n      <td>0</td>\n      <td>211536</td>\n      <td>13.0000</td>\n      <td>NaN</td>\n      <td>S</td>\n    </tr>\n    <tr>\n      <th>887</th>\n      <td>888</td>\n      <td>1</td>\n      <td>1</td>\n      <td>Graham, Miss. Margaret Edith</td>\n      <td>female</td>\n      <td>19.0</td>\n      <td>0</td>\n      <td>0</td>\n      <td>112053</td>\n      <td>30.0000</td>\n      <td>B42</td>\n      <td>S</td>\n    </tr>\n    <tr>\n      <th>888</th>\n      <td>889</td>\n      <td>0</td>\n      <td>3</td>\n      <td>Johnston, Miss. Catherine Helen \"Carrie\"</td>\n      <td>female</td>\n      <td>NaN</td>\n      <td>1</td>\n      <td>2</td>\n      <td>W./C. 6607</td>\n      <td>23.4500</td>\n      <td>NaN</td>\n      <td>S</td>\n    </tr>\n    <tr>\n      <th>889</th>\n      <td>890</td>\n      <td>1</td>\n      <td>1</td>\n      <td>Behr, Mr. Karl Howell</td>\n      <td>male</td>\n      <td>26.0</td>\n      <td>0</td>\n      <td>0</td>\n      <td>111369</td>\n      <td>30.0000</td>\n      <td>C148</td>\n      <td>C</td>\n    </tr>\n    <tr>\n      <th>890</th>\n      <td>891</td>\n      <td>0</td>\n      <td>3</td>\n      <td>Dooley, Mr. Patrick</td>\n      <td>male</td>\n      <td>32.0</td>\n      <td>0</td>\n      <td>0</td>\n      <td>370376</td>\n      <td>7.7500</td>\n      <td>NaN</td>\n      <td>Q</td>\n    </tr>\n  </tbody>\n</table>\n<p>891 rows × 12 columns</p>\n</div>"
     },
     "metadata": {},
     "execution_count": 3
    }
   ],
   "source": [
    "ml.train"
   ]
  },
  {
   "cell_type": "code",
   "execution_count": 4,
   "metadata": {},
   "outputs": [
    {
     "output_type": "display_data",
     "data": {
      "text/plain": "<Figure size 792x648 with 2 Axes>",
      "image/svg+xml": "<?xml version=\"1.0\" encoding=\"utf-8\" standalone=\"no\"?>\n<!DOCTYPE svg PUBLIC \"-//W3C//DTD SVG 1.1//EN\"\n  \"http://www.w3.org/Graphics/SVG/1.1/DTD/svg11.dtd\">\n<!-- Created with matplotlib (https://matplotlib.org/) -->\n<svg height=\"523.785937pt\" version=\"1.1\" viewBox=\"0 0 602.918031 523.785937\" width=\"602.918031pt\" xmlns=\"http://www.w3.org/2000/svg\" xmlns:xlink=\"http://www.w3.org/1999/xlink\">\n <metadata>\n  <rdf:RDF xmlns:cc=\"http://creativecommons.org/ns#\" xmlns:dc=\"http://purl.org/dc/elements/1.1/\" xmlns:rdf=\"http://www.w3.org/1999/02/22-rdf-syntax-ns#\">\n   <cc:Work>\n    <dc:type rdf:resource=\"http://purl.org/dc/dcmitype/StillImage\"/>\n    <dc:date>2020-11-18T00:51:13.057001</dc:date>\n    <dc:format>image/svg+xml</dc:format>\n    <dc:creator>\n     <cc:Agent>\n      <dc:title>Matplotlib v3.3.1, https://matplotlib.org/</dc:title>\n     </cc:Agent>\n    </dc:creator>\n   </cc:Work>\n  </rdf:RDF>\n </metadata>\n <defs>\n  <style type=\"text/css\">*{stroke-linecap:butt;stroke-linejoin:round;}</style>\n </defs>\n <g id=\"figure_1\">\n  <g id=\"patch_1\">\n   <path d=\"M 0 523.785937 \nL 602.918031 523.785937 \nL 602.918031 0 \nL 0 0 \nz\n\" style=\"fill:#ffffff;\"/>\n  </g>\n  <g id=\"axes_1\">\n   <g id=\"patch_2\">\n    <path d=\"M 27.345938 496.44 \nL 516.585938 496.44 \nL 516.585938 7.2 \nL 27.345938 7.2 \nz\n\" style=\"fill:#ffffff;\"/>\n   </g>\n   <g id=\"matplotlib.axis_1\">\n    <g id=\"xtick_1\">\n     <g id=\"text_1\">\n      <!-- PassengerId -->\n      <g style=\"fill:#262626;\" transform=\"translate(29.001183 514.298281)scale(0.11 -0.11)\">\n       <defs>\n        <path d=\"M 19.671875 64.796875 \nL 19.671875 37.40625 \nL 32.078125 37.40625 \nQ 38.96875 37.40625 42.71875 40.96875 \nQ 46.484375 44.53125 46.484375 51.125 \nQ 46.484375 57.671875 42.71875 61.234375 \nQ 38.96875 64.796875 32.078125 64.796875 \nz\nM 9.8125 72.90625 \nL 32.078125 72.90625 \nQ 44.34375 72.90625 50.609375 67.359375 \nQ 56.890625 61.8125 56.890625 51.125 \nQ 56.890625 40.328125 50.609375 34.8125 \nQ 44.34375 29.296875 32.078125 29.296875 \nL 19.671875 29.296875 \nL 19.671875 0 \nL 9.8125 0 \nz\n\" id=\"DejaVuSans-80\"/>\n        <path d=\"M 34.28125 27.484375 \nQ 23.390625 27.484375 19.1875 25 \nQ 14.984375 22.515625 14.984375 16.5 \nQ 14.984375 11.71875 18.140625 8.90625 \nQ 21.296875 6.109375 26.703125 6.109375 \nQ 34.1875 6.109375 38.703125 11.40625 \nQ 43.21875 16.703125 43.21875 25.484375 \nL 43.21875 27.484375 \nz\nM 52.203125 31.203125 \nL 52.203125 0 \nL 43.21875 0 \nL 43.21875 8.296875 \nQ 40.140625 3.328125 35.546875 0.953125 \nQ 30.953125 -1.421875 24.3125 -1.421875 \nQ 15.921875 -1.421875 10.953125 3.296875 \nQ 6 8.015625 6 15.921875 \nQ 6 25.140625 12.171875 29.828125 \nQ 18.359375 34.515625 30.609375 34.515625 \nL 43.21875 34.515625 \nL 43.21875 35.40625 \nQ 43.21875 41.609375 39.140625 45 \nQ 35.0625 48.390625 27.6875 48.390625 \nQ 23 48.390625 18.546875 47.265625 \nQ 14.109375 46.140625 10.015625 43.890625 \nL 10.015625 52.203125 \nQ 14.9375 54.109375 19.578125 55.046875 \nQ 24.21875 56 28.609375 56 \nQ 40.484375 56 46.34375 49.84375 \nQ 52.203125 43.703125 52.203125 31.203125 \nz\n\" id=\"DejaVuSans-97\"/>\n        <path d=\"M 44.28125 53.078125 \nL 44.28125 44.578125 \nQ 40.484375 46.53125 36.375 47.5 \nQ 32.28125 48.484375 27.875 48.484375 \nQ 21.1875 48.484375 17.84375 46.4375 \nQ 14.5 44.390625 14.5 40.28125 \nQ 14.5 37.15625 16.890625 35.375 \nQ 19.28125 33.59375 26.515625 31.984375 \nL 29.59375 31.296875 \nQ 39.15625 29.25 43.1875 25.515625 \nQ 47.21875 21.78125 47.21875 15.09375 \nQ 47.21875 7.46875 41.1875 3.015625 \nQ 35.15625 -1.421875 24.609375 -1.421875 \nQ 20.21875 -1.421875 15.453125 -0.5625 \nQ 10.6875 0.296875 5.421875 2 \nL 5.421875 11.28125 \nQ 10.40625 8.6875 15.234375 7.390625 \nQ 20.0625 6.109375 24.8125 6.109375 \nQ 31.15625 6.109375 34.5625 8.28125 \nQ 37.984375 10.453125 37.984375 14.40625 \nQ 37.984375 18.0625 35.515625 20.015625 \nQ 33.0625 21.96875 24.703125 23.78125 \nL 21.578125 24.515625 \nQ 13.234375 26.265625 9.515625 29.90625 \nQ 5.8125 33.546875 5.8125 39.890625 \nQ 5.8125 47.609375 11.28125 51.796875 \nQ 16.75 56 26.8125 56 \nQ 31.78125 56 36.171875 55.265625 \nQ 40.578125 54.546875 44.28125 53.078125 \nz\n\" id=\"DejaVuSans-115\"/>\n        <path d=\"M 56.203125 29.59375 \nL 56.203125 25.203125 \nL 14.890625 25.203125 \nQ 15.484375 15.921875 20.484375 11.0625 \nQ 25.484375 6.203125 34.421875 6.203125 \nQ 39.59375 6.203125 44.453125 7.46875 \nQ 49.3125 8.734375 54.109375 11.28125 \nL 54.109375 2.78125 \nQ 49.265625 0.734375 44.1875 -0.34375 \nQ 39.109375 -1.421875 33.890625 -1.421875 \nQ 20.796875 -1.421875 13.15625 6.1875 \nQ 5.515625 13.8125 5.515625 26.8125 \nQ 5.515625 40.234375 12.765625 48.109375 \nQ 20.015625 56 32.328125 56 \nQ 43.359375 56 49.78125 48.890625 \nQ 56.203125 41.796875 56.203125 29.59375 \nz\nM 47.21875 32.234375 \nQ 47.125 39.59375 43.09375 43.984375 \nQ 39.0625 48.390625 32.421875 48.390625 \nQ 24.90625 48.390625 20.390625 44.140625 \nQ 15.875 39.890625 15.1875 32.171875 \nz\n\" id=\"DejaVuSans-101\"/>\n        <path d=\"M 54.890625 33.015625 \nL 54.890625 0 \nL 45.90625 0 \nL 45.90625 32.71875 \nQ 45.90625 40.484375 42.875 44.328125 \nQ 39.84375 48.1875 33.796875 48.1875 \nQ 26.515625 48.1875 22.3125 43.546875 \nQ 18.109375 38.921875 18.109375 30.90625 \nL 18.109375 0 \nL 9.078125 0 \nL 9.078125 54.6875 \nL 18.109375 54.6875 \nL 18.109375 46.1875 \nQ 21.34375 51.125 25.703125 53.5625 \nQ 30.078125 56 35.796875 56 \nQ 45.21875 56 50.046875 50.171875 \nQ 54.890625 44.34375 54.890625 33.015625 \nz\n\" id=\"DejaVuSans-110\"/>\n        <path d=\"M 45.40625 27.984375 \nQ 45.40625 37.75 41.375 43.109375 \nQ 37.359375 48.484375 30.078125 48.484375 \nQ 22.859375 48.484375 18.828125 43.109375 \nQ 14.796875 37.75 14.796875 27.984375 \nQ 14.796875 18.265625 18.828125 12.890625 \nQ 22.859375 7.515625 30.078125 7.515625 \nQ 37.359375 7.515625 41.375 12.890625 \nQ 45.40625 18.265625 45.40625 27.984375 \nz\nM 54.390625 6.78125 \nQ 54.390625 -7.171875 48.1875 -13.984375 \nQ 42 -20.796875 29.203125 -20.796875 \nQ 24.46875 -20.796875 20.265625 -20.09375 \nQ 16.0625 -19.390625 12.109375 -17.921875 \nL 12.109375 -9.1875 \nQ 16.0625 -11.328125 19.921875 -12.34375 \nQ 23.78125 -13.375 27.78125 -13.375 \nQ 36.625 -13.375 41.015625 -8.765625 \nQ 45.40625 -4.15625 45.40625 5.171875 \nL 45.40625 9.625 \nQ 42.625 4.78125 38.28125 2.390625 \nQ 33.9375 0 27.875 0 \nQ 17.828125 0 11.671875 7.65625 \nQ 5.515625 15.328125 5.515625 27.984375 \nQ 5.515625 40.671875 11.671875 48.328125 \nQ 17.828125 56 27.875 56 \nQ 33.9375 56 38.28125 53.609375 \nQ 42.625 51.21875 45.40625 46.390625 \nL 45.40625 54.6875 \nL 54.390625 54.6875 \nz\n\" id=\"DejaVuSans-103\"/>\n        <path d=\"M 41.109375 46.296875 \nQ 39.59375 47.171875 37.8125 47.578125 \nQ 36.03125 48 33.890625 48 \nQ 26.265625 48 22.1875 43.046875 \nQ 18.109375 38.09375 18.109375 28.8125 \nL 18.109375 0 \nL 9.078125 0 \nL 9.078125 54.6875 \nL 18.109375 54.6875 \nL 18.109375 46.1875 \nQ 20.953125 51.171875 25.484375 53.578125 \nQ 30.03125 56 36.53125 56 \nQ 37.453125 56 38.578125 55.875 \nQ 39.703125 55.765625 41.0625 55.515625 \nz\n\" id=\"DejaVuSans-114\"/>\n        <path d=\"M 9.8125 72.90625 \nL 19.671875 72.90625 \nL 19.671875 0 \nL 9.8125 0 \nz\n\" id=\"DejaVuSans-73\"/>\n        <path d=\"M 45.40625 46.390625 \nL 45.40625 75.984375 \nL 54.390625 75.984375 \nL 54.390625 0 \nL 45.40625 0 \nL 45.40625 8.203125 \nQ 42.578125 3.328125 38.25 0.953125 \nQ 33.9375 -1.421875 27.875 -1.421875 \nQ 17.96875 -1.421875 11.734375 6.484375 \nQ 5.515625 14.40625 5.515625 27.296875 \nQ 5.515625 40.1875 11.734375 48.09375 \nQ 17.96875 56 27.875 56 \nQ 33.9375 56 38.25 53.625 \nQ 42.578125 51.265625 45.40625 46.390625 \nz\nM 14.796875 27.296875 \nQ 14.796875 17.390625 18.875 11.75 \nQ 22.953125 6.109375 30.078125 6.109375 \nQ 37.203125 6.109375 41.296875 11.75 \nQ 45.40625 17.390625 45.40625 27.296875 \nQ 45.40625 37.203125 41.296875 42.84375 \nQ 37.203125 48.484375 30.078125 48.484375 \nQ 22.953125 48.484375 18.875 42.84375 \nQ 14.796875 37.203125 14.796875 27.296875 \nz\n\" id=\"DejaVuSans-100\"/>\n       </defs>\n       <use xlink:href=\"#DejaVuSans-80\"/>\n       <use x=\"55.802734\" xlink:href=\"#DejaVuSans-97\"/>\n       <use x=\"117.082031\" xlink:href=\"#DejaVuSans-115\"/>\n       <use x=\"169.181641\" xlink:href=\"#DejaVuSans-115\"/>\n       <use x=\"221.28125\" xlink:href=\"#DejaVuSans-101\"/>\n       <use x=\"282.804688\" xlink:href=\"#DejaVuSans-110\"/>\n       <use x=\"346.183594\" xlink:href=\"#DejaVuSans-103\"/>\n       <use x=\"409.660156\" xlink:href=\"#DejaVuSans-101\"/>\n       <use x=\"471.183594\" xlink:href=\"#DejaVuSans-114\"/>\n       <use x=\"512.296875\" xlink:href=\"#DejaVuSans-73\"/>\n       <use x=\"541.789062\" xlink:href=\"#DejaVuSans-100\"/>\n      </g>\n     </g>\n    </g>\n    <g id=\"xtick_2\">\n     <g id=\"text_2\">\n      <!-- Survived -->\n      <g style=\"fill:#262626;\" transform=\"translate(108.030346 514.298281)scale(0.11 -0.11)\">\n       <defs>\n        <path d=\"M 53.515625 70.515625 \nL 53.515625 60.890625 \nQ 47.90625 63.578125 42.921875 64.890625 \nQ 37.9375 66.21875 33.296875 66.21875 \nQ 25.25 66.21875 20.875 63.09375 \nQ 16.5 59.96875 16.5 54.203125 \nQ 16.5 49.359375 19.40625 46.890625 \nQ 22.3125 44.4375 30.421875 42.921875 \nL 36.375 41.703125 \nQ 47.40625 39.59375 52.65625 34.296875 \nQ 57.90625 29 57.90625 20.125 \nQ 57.90625 9.515625 50.796875 4.046875 \nQ 43.703125 -1.421875 29.984375 -1.421875 \nQ 24.8125 -1.421875 18.96875 -0.25 \nQ 13.140625 0.921875 6.890625 3.21875 \nL 6.890625 13.375 \nQ 12.890625 10.015625 18.65625 8.296875 \nQ 24.421875 6.59375 29.984375 6.59375 \nQ 38.421875 6.59375 43.015625 9.90625 \nQ 47.609375 13.234375 47.609375 19.390625 \nQ 47.609375 24.75 44.3125 27.78125 \nQ 41.015625 30.8125 33.5 32.328125 \nL 27.484375 33.5 \nQ 16.453125 35.6875 11.515625 40.375 \nQ 6.59375 45.0625 6.59375 53.421875 \nQ 6.59375 63.09375 13.40625 68.65625 \nQ 20.21875 74.21875 32.171875 74.21875 \nQ 37.3125 74.21875 42.625 73.28125 \nQ 47.953125 72.359375 53.515625 70.515625 \nz\n\" id=\"DejaVuSans-83\"/>\n        <path d=\"M 8.5 21.578125 \nL 8.5 54.6875 \nL 17.484375 54.6875 \nL 17.484375 21.921875 \nQ 17.484375 14.15625 20.5 10.265625 \nQ 23.53125 6.390625 29.59375 6.390625 \nQ 36.859375 6.390625 41.078125 11.03125 \nQ 45.3125 15.671875 45.3125 23.6875 \nL 45.3125 54.6875 \nL 54.296875 54.6875 \nL 54.296875 0 \nL 45.3125 0 \nL 45.3125 8.40625 \nQ 42.046875 3.421875 37.71875 1 \nQ 33.40625 -1.421875 27.6875 -1.421875 \nQ 18.265625 -1.421875 13.375 4.4375 \nQ 8.5 10.296875 8.5 21.578125 \nz\nM 31.109375 56 \nz\n\" id=\"DejaVuSans-117\"/>\n        <path d=\"M 2.984375 54.6875 \nL 12.5 54.6875 \nL 29.59375 8.796875 \nL 46.6875 54.6875 \nL 56.203125 54.6875 \nL 35.6875 0 \nL 23.484375 0 \nz\n\" id=\"DejaVuSans-118\"/>\n        <path d=\"M 9.421875 54.6875 \nL 18.40625 54.6875 \nL 18.40625 0 \nL 9.421875 0 \nz\nM 9.421875 75.984375 \nL 18.40625 75.984375 \nL 18.40625 64.59375 \nL 9.421875 64.59375 \nz\n\" id=\"DejaVuSans-105\"/>\n       </defs>\n       <use xlink:href=\"#DejaVuSans-83\"/>\n       <use x=\"63.476562\" xlink:href=\"#DejaVuSans-117\"/>\n       <use x=\"126.855469\" xlink:href=\"#DejaVuSans-114\"/>\n       <use x=\"167.96875\" xlink:href=\"#DejaVuSans-118\"/>\n       <use x=\"227.148438\" xlink:href=\"#DejaVuSans-105\"/>\n       <use x=\"254.931641\" xlink:href=\"#DejaVuSans-118\"/>\n       <use x=\"314.111328\" xlink:href=\"#DejaVuSans-101\"/>\n       <use x=\"375.634766\" xlink:href=\"#DejaVuSans-100\"/>\n      </g>\n     </g>\n    </g>\n    <g id=\"xtick_3\">\n     <g id=\"text_3\">\n      <!-- Pclass -->\n      <g style=\"fill:#262626;\" transform=\"translate(185.10529 514.298281)scale(0.11 -0.11)\">\n       <defs>\n        <path d=\"M 48.78125 52.59375 \nL 48.78125 44.1875 \nQ 44.96875 46.296875 41.140625 47.34375 \nQ 37.3125 48.390625 33.40625 48.390625 \nQ 24.65625 48.390625 19.8125 42.84375 \nQ 14.984375 37.3125 14.984375 27.296875 \nQ 14.984375 17.28125 19.8125 11.734375 \nQ 24.65625 6.203125 33.40625 6.203125 \nQ 37.3125 6.203125 41.140625 7.25 \nQ 44.96875 8.296875 48.78125 10.40625 \nL 48.78125 2.09375 \nQ 45.015625 0.34375 40.984375 -0.53125 \nQ 36.96875 -1.421875 32.421875 -1.421875 \nQ 20.0625 -1.421875 12.78125 6.34375 \nQ 5.515625 14.109375 5.515625 27.296875 \nQ 5.515625 40.671875 12.859375 48.328125 \nQ 20.21875 56 33.015625 56 \nQ 37.15625 56 41.109375 55.140625 \nQ 45.0625 54.296875 48.78125 52.59375 \nz\n\" id=\"DejaVuSans-99\"/>\n        <path d=\"M 9.421875 75.984375 \nL 18.40625 75.984375 \nL 18.40625 0 \nL 9.421875 0 \nz\n\" id=\"DejaVuSans-108\"/>\n       </defs>\n       <use xlink:href=\"#DejaVuSans-80\"/>\n       <use x=\"60.302734\" xlink:href=\"#DejaVuSans-99\"/>\n       <use x=\"115.283203\" xlink:href=\"#DejaVuSans-108\"/>\n       <use x=\"143.066406\" xlink:href=\"#DejaVuSans-97\"/>\n       <use x=\"204.345703\" xlink:href=\"#DejaVuSans-115\"/>\n       <use x=\"256.445312\" xlink:href=\"#DejaVuSans-115\"/>\n      </g>\n     </g>\n    </g>\n    <g id=\"xtick_4\">\n     <g id=\"text_4\">\n      <!-- Age -->\n      <g style=\"fill:#262626;\" transform=\"translate(261.327734 514.298281)scale(0.11 -0.11)\">\n       <defs>\n        <path d=\"M 34.1875 63.1875 \nL 20.796875 26.90625 \nL 47.609375 26.90625 \nz\nM 28.609375 72.90625 \nL 39.796875 72.90625 \nL 67.578125 0 \nL 57.328125 0 \nL 50.6875 18.703125 \nL 17.828125 18.703125 \nL 11.1875 0 \nL 0.78125 0 \nz\n\" id=\"DejaVuSans-65\"/>\n       </defs>\n       <use xlink:href=\"#DejaVuSans-65\"/>\n       <use x=\"68.408203\" xlink:href=\"#DejaVuSans-103\"/>\n       <use x=\"131.884766\" xlink:href=\"#DejaVuSans-101\"/>\n      </g>\n     </g>\n    </g>\n    <g id=\"xtick_5\">\n     <g id=\"text_5\">\n      <!-- SibSp -->\n      <g style=\"fill:#262626;\" transform=\"translate(326.362835 514.298281)scale(0.11 -0.11)\">\n       <defs>\n        <path d=\"M 48.6875 27.296875 \nQ 48.6875 37.203125 44.609375 42.84375 \nQ 40.53125 48.484375 33.40625 48.484375 \nQ 26.265625 48.484375 22.1875 42.84375 \nQ 18.109375 37.203125 18.109375 27.296875 \nQ 18.109375 17.390625 22.1875 11.75 \nQ 26.265625 6.109375 33.40625 6.109375 \nQ 40.53125 6.109375 44.609375 11.75 \nQ 48.6875 17.390625 48.6875 27.296875 \nz\nM 18.109375 46.390625 \nQ 20.953125 51.265625 25.265625 53.625 \nQ 29.59375 56 35.59375 56 \nQ 45.5625 56 51.78125 48.09375 \nQ 58.015625 40.1875 58.015625 27.296875 \nQ 58.015625 14.40625 51.78125 6.484375 \nQ 45.5625 -1.421875 35.59375 -1.421875 \nQ 29.59375 -1.421875 25.265625 0.953125 \nQ 20.953125 3.328125 18.109375 8.203125 \nL 18.109375 0 \nL 9.078125 0 \nL 9.078125 75.984375 \nL 18.109375 75.984375 \nz\n\" id=\"DejaVuSans-98\"/>\n        <path d=\"M 18.109375 8.203125 \nL 18.109375 -20.796875 \nL 9.078125 -20.796875 \nL 9.078125 54.6875 \nL 18.109375 54.6875 \nL 18.109375 46.390625 \nQ 20.953125 51.265625 25.265625 53.625 \nQ 29.59375 56 35.59375 56 \nQ 45.5625 56 51.78125 48.09375 \nQ 58.015625 40.1875 58.015625 27.296875 \nQ 58.015625 14.40625 51.78125 6.484375 \nQ 45.5625 -1.421875 35.59375 -1.421875 \nQ 29.59375 -1.421875 25.265625 0.953125 \nQ 20.953125 3.328125 18.109375 8.203125 \nz\nM 48.6875 27.296875 \nQ 48.6875 37.203125 44.609375 42.84375 \nQ 40.53125 48.484375 33.40625 48.484375 \nQ 26.265625 48.484375 22.1875 42.84375 \nQ 18.109375 37.203125 18.109375 27.296875 \nQ 18.109375 17.390625 22.1875 11.75 \nQ 26.265625 6.109375 33.40625 6.109375 \nQ 40.53125 6.109375 44.609375 11.75 \nQ 48.6875 17.390625 48.6875 27.296875 \nz\n\" id=\"DejaVuSans-112\"/>\n       </defs>\n       <use xlink:href=\"#DejaVuSans-83\"/>\n       <use x=\"63.476562\" xlink:href=\"#DejaVuSans-105\"/>\n       <use x=\"91.259766\" xlink:href=\"#DejaVuSans-98\"/>\n       <use x=\"154.736328\" xlink:href=\"#DejaVuSans-83\"/>\n       <use x=\"218.212891\" xlink:href=\"#DejaVuSans-112\"/>\n      </g>\n     </g>\n    </g>\n    <g id=\"xtick_6\">\n     <g id=\"text_6\">\n      <!-- Parch -->\n      <g style=\"fill:#262626;\" transform=\"translate(396.662467 514.298281)scale(0.11 -0.11)\">\n       <defs>\n        <path d=\"M 54.890625 33.015625 \nL 54.890625 0 \nL 45.90625 0 \nL 45.90625 32.71875 \nQ 45.90625 40.484375 42.875 44.328125 \nQ 39.84375 48.1875 33.796875 48.1875 \nQ 26.515625 48.1875 22.3125 43.546875 \nQ 18.109375 38.921875 18.109375 30.90625 \nL 18.109375 0 \nL 9.078125 0 \nL 9.078125 75.984375 \nL 18.109375 75.984375 \nL 18.109375 46.1875 \nQ 21.34375 51.125 25.703125 53.5625 \nQ 30.078125 56 35.796875 56 \nQ 45.21875 56 50.046875 50.171875 \nQ 54.890625 44.34375 54.890625 33.015625 \nz\n\" id=\"DejaVuSans-104\"/>\n       </defs>\n       <use xlink:href=\"#DejaVuSans-80\"/>\n       <use x=\"55.802734\" xlink:href=\"#DejaVuSans-97\"/>\n       <use x=\"117.082031\" xlink:href=\"#DejaVuSans-114\"/>\n       <use x=\"155.945312\" xlink:href=\"#DejaVuSans-99\"/>\n       <use x=\"210.925781\" xlink:href=\"#DejaVuSans-104\"/>\n      </g>\n     </g>\n    </g>\n    <g id=\"xtick_7\">\n     <g id=\"text_7\">\n      <!-- Fare -->\n      <g style=\"fill:#262626;\" transform=\"translate(470.086786 514.298281)scale(0.11 -0.11)\">\n       <defs>\n        <path d=\"M 9.8125 72.90625 \nL 51.703125 72.90625 \nL 51.703125 64.59375 \nL 19.671875 64.59375 \nL 19.671875 43.109375 \nL 48.578125 43.109375 \nL 48.578125 34.8125 \nL 19.671875 34.8125 \nL 19.671875 0 \nL 9.8125 0 \nz\n\" id=\"DejaVuSans-70\"/>\n       </defs>\n       <use xlink:href=\"#DejaVuSans-70\"/>\n       <use x=\"48.394531\" xlink:href=\"#DejaVuSans-97\"/>\n       <use x=\"109.673828\" xlink:href=\"#DejaVuSans-114\"/>\n       <use x=\"148.537109\" xlink:href=\"#DejaVuSans-101\"/>\n      </g>\n     </g>\n    </g>\n   </g>\n   <g id=\"matplotlib.axis_2\">\n    <g id=\"ytick_1\">\n     <g id=\"text_8\">\n      <!-- PassengerId -->\n      <g style=\"fill:#262626;\" transform=\"translate(15.558281 104.547511)rotate(-90)scale(0.11 -0.11)\">\n       <use xlink:href=\"#DejaVuSans-80\"/>\n       <use x=\"55.802734\" xlink:href=\"#DejaVuSans-97\"/>\n       <use x=\"117.082031\" xlink:href=\"#DejaVuSans-115\"/>\n       <use x=\"169.181641\" xlink:href=\"#DejaVuSans-115\"/>\n       <use x=\"221.28125\" xlink:href=\"#DejaVuSans-101\"/>\n       <use x=\"282.804688\" xlink:href=\"#DejaVuSans-110\"/>\n       <use x=\"346.183594\" xlink:href=\"#DejaVuSans-103\"/>\n       <use x=\"409.660156\" xlink:href=\"#DejaVuSans-101\"/>\n       <use x=\"471.183594\" xlink:href=\"#DejaVuSans-114\"/>\n       <use x=\"512.296875\" xlink:href=\"#DejaVuSans-73\"/>\n       <use x=\"541.789062\" xlink:href=\"#DejaVuSans-100\"/>\n      </g>\n     </g>\n    </g>\n    <g id=\"ytick_2\">\n     <g id=\"text_9\">\n      <!-- Survived -->\n      <g style=\"fill:#262626;\" transform=\"translate(15.558281 156.163471)rotate(-90)scale(0.11 -0.11)\">\n       <use xlink:href=\"#DejaVuSans-83\"/>\n       <use x=\"63.476562\" xlink:href=\"#DejaVuSans-117\"/>\n       <use x=\"126.855469\" xlink:href=\"#DejaVuSans-114\"/>\n       <use x=\"167.96875\" xlink:href=\"#DejaVuSans-118\"/>\n       <use x=\"227.148438\" xlink:href=\"#DejaVuSans-105\"/>\n       <use x=\"254.931641\" xlink:href=\"#DejaVuSans-118\"/>\n       <use x=\"314.111328\" xlink:href=\"#DejaVuSans-101\"/>\n       <use x=\"375.634766\" xlink:href=\"#DejaVuSans-100\"/>\n      </g>\n     </g>\n    </g>\n    <g id=\"ytick_3\">\n     <g id=\"text_10\">\n      <!-- Pclass -->\n      <g style=\"fill:#262626;\" transform=\"translate(15.558281 211.687868)rotate(-90)scale(0.11 -0.11)\">\n       <use xlink:href=\"#DejaVuSans-80\"/>\n       <use x=\"60.302734\" xlink:href=\"#DejaVuSans-99\"/>\n       <use x=\"115.283203\" xlink:href=\"#DejaVuSans-108\"/>\n       <use x=\"143.066406\" xlink:href=\"#DejaVuSans-97\"/>\n       <use x=\"204.345703\" xlink:href=\"#DejaVuSans-115\"/>\n       <use x=\"256.445312\" xlink:href=\"#DejaVuSans-115\"/>\n      </g>\n     </g>\n    </g>\n    <g id=\"ytick_4\">\n     <g id=\"text_11\">\n      <!-- Age -->\n      <g style=\"fill:#262626;\" transform=\"translate(15.558281 268.917266)rotate(-90)scale(0.11 -0.11)\">\n       <use xlink:href=\"#DejaVuSans-65\"/>\n       <use x=\"68.408203\" xlink:href=\"#DejaVuSans-103\"/>\n       <use x=\"131.884766\" xlink:href=\"#DejaVuSans-101\"/>\n      </g>\n     </g>\n    </g>\n    <g id=\"ytick_5\">\n     <g id=\"text_12\">\n      <!-- SibSp -->\n      <g style=\"fill:#262626;\" transform=\"translate(15.558281 348.52135)rotate(-90)scale(0.11 -0.11)\">\n       <use xlink:href=\"#DejaVuSans-83\"/>\n       <use x=\"63.476562\" xlink:href=\"#DejaVuSans-105\"/>\n       <use x=\"91.259766\" xlink:href=\"#DejaVuSans-98\"/>\n       <use x=\"154.736328\" xlink:href=\"#DejaVuSans-83\"/>\n       <use x=\"218.212891\" xlink:href=\"#DejaVuSans-112\"/>\n      </g>\n     </g>\n    </g>\n    <g id=\"ytick_6\">\n     <g id=\"text_13\">\n      <!-- Parch -->\n      <g style=\"fill:#262626;\" transform=\"translate(15.558281 417.596373)rotate(-90)scale(0.11 -0.11)\">\n       <use xlink:href=\"#DejaVuSans-80\"/>\n       <use x=\"55.802734\" xlink:href=\"#DejaVuSans-97\"/>\n       <use x=\"117.082031\" xlink:href=\"#DejaVuSans-114\"/>\n       <use x=\"155.945312\" xlink:href=\"#DejaVuSans-99\"/>\n       <use x=\"210.925781\" xlink:href=\"#DejaVuSans-104\"/>\n      </g>\n     </g>\n    </g>\n    <g id=\"ytick_7\">\n     <g id=\"text_14\">\n      <!-- Fare -->\n      <g style=\"fill:#262626;\" transform=\"translate(15.558281 480.42202)rotate(-90)scale(0.11 -0.11)\">\n       <use xlink:href=\"#DejaVuSans-70\"/>\n       <use x=\"48.394531\" xlink:href=\"#DejaVuSans-97\"/>\n       <use x=\"109.673828\" xlink:href=\"#DejaVuSans-114\"/>\n       <use x=\"148.537109\" xlink:href=\"#DejaVuSans-101\"/>\n      </g>\n     </g>\n    </g>\n   </g>\n   <g id=\"QuadMesh_1\">\n    <path clip-path=\"url(#pd67d8183a2)\" d=\"M 27.345938 7.2 \nL 97.237366 7.2 \nL 97.237366 77.091429 \nL 27.345938 77.091429 \nL 27.345938 7.2 \n\" style=\"fill:#e58d94;stroke:#ffffff;stroke-width:0.5;\"/>\n    <path clip-path=\"url(#pd67d8183a2)\" d=\"M 97.237366 7.2 \nL 167.128795 7.2 \nL 167.128795 77.091429 \nL 97.237366 77.091429 \nL 97.237366 7.2 \n\" style=\"fill:#f0f2f2;stroke:#ffffff;stroke-width:0.5;\"/>\n    <path clip-path=\"url(#pd67d8183a2)\" d=\"M 167.128795 7.2 \nL 237.020223 7.2 \nL 237.020223 77.091429 \nL 167.128795 77.091429 \nL 167.128795 7.2 \n\" style=\"fill:#e6ebed;stroke:#ffffff;stroke-width:0.5;\"/>\n    <path clip-path=\"url(#pd67d8183a2)\" d=\"M 237.020223 7.2 \nL 306.911652 7.2 \nL 306.911652 77.091429 \nL 237.020223 77.091429 \nL 237.020223 7.2 \n\" style=\"fill:#f1e5e6;stroke:#ffffff;stroke-width:0.5;\"/>\n    <path clip-path=\"url(#pd67d8183a2)\" d=\"M 306.911652 7.2 \nL 376.80308 7.2 \nL 376.80308 77.091429 \nL 306.911652 77.091429 \nL 306.911652 7.2 \n\" style=\"fill:#dde6e9;stroke:#ffffff;stroke-width:0.5;\"/>\n    <path clip-path=\"url(#pd67d8183a2)\" d=\"M 376.80308 7.2 \nL 446.694509 7.2 \nL 446.694509 77.091429 \nL 376.80308 77.091429 \nL 376.80308 7.2 \n\" style=\"fill:#f2f1f1;stroke:#ffffff;stroke-width:0.5;\"/>\n    <path clip-path=\"url(#pd67d8183a2)\" d=\"M 446.694509 7.2 \nL 516.585938 7.2 \nL 516.585938 77.091429 \nL 446.694509 77.091429 \nL 446.694509 7.2 \n\" style=\"fill:#f2eded;stroke:#ffffff;stroke-width:0.5;\"/>\n    <path clip-path=\"url(#pd67d8183a2)\" d=\"M 27.345938 77.091429 \nL 97.237366 77.091429 \nL 97.237366 146.982857 \nL 27.345938 146.982857 \nL 27.345938 77.091429 \n\" style=\"fill:#f0f2f2;stroke:#ffffff;stroke-width:0.5;\"/>\n    <path clip-path=\"url(#pd67d8183a2)\" d=\"M 97.237366 77.091429 \nL 167.128795 77.091429 \nL 167.128795 146.982857 \nL 97.237366 146.982857 \nL 97.237366 77.091429 \n\" style=\"fill:#e58d94;stroke:#ffffff;stroke-width:0.5;\"/>\n    <path clip-path=\"url(#pd67d8183a2)\" d=\"M 167.128795 77.091429 \nL 237.020223 77.091429 \nL 237.020223 146.982857 \nL 167.128795 146.982857 \nL 167.128795 77.091429 \n\" style=\"fill:#81aab7;stroke:#ffffff;stroke-width:0.5;\"/>\n    <path clip-path=\"url(#pd67d8183a2)\" d=\"M 237.020223 77.091429 \nL 306.911652 77.091429 \nL 306.911652 146.982857 \nL 237.020223 146.982857 \nL 237.020223 77.091429 \n\" style=\"fill:#d8e2e6;stroke:#ffffff;stroke-width:0.5;\"/>\n    <path clip-path=\"url(#pd67d8183a2)\" d=\"M 306.911652 77.091429 \nL 376.80308 77.091429 \nL 376.80308 146.982857 \nL 306.911652 146.982857 \nL 306.911652 77.091429 \n\" style=\"fill:#e4eaed;stroke:#ffffff;stroke-width:0.5;\"/>\n    <path clip-path=\"url(#pd67d8183a2)\" d=\"M 376.80308 77.091429 \nL 446.694509 77.091429 \nL 446.694509 146.982857 \nL 376.80308 146.982857 \nL 376.80308 77.091429 \n\" style=\"fill:#efd6d7;stroke:#ffffff;stroke-width:0.5;\"/>\n    <path clip-path=\"url(#pd67d8183a2)\" d=\"M 446.694509 77.091429 \nL 516.585938 77.091429 \nL 516.585938 146.982857 \nL 446.694509 146.982857 \nL 446.694509 77.091429 \n\" style=\"fill:#e79ba1;stroke:#ffffff;stroke-width:0.5;\"/>\n    <path clip-path=\"url(#pd67d8183a2)\" d=\"M 27.345938 146.982857 \nL 97.237366 146.982857 \nL 97.237366 216.874286 \nL 27.345938 216.874286 \nL 27.345938 146.982857 \n\" style=\"fill:#e6ebed;stroke:#ffffff;stroke-width:0.5;\"/>\n    <path clip-path=\"url(#pd67d8183a2)\" d=\"M 97.237366 146.982857 \nL 167.128795 146.982857 \nL 167.128795 216.874286 \nL 97.237366 216.874286 \nL 97.237366 146.982857 \n\" style=\"fill:#81aab7;stroke:#ffffff;stroke-width:0.5;\"/>\n    <path clip-path=\"url(#pd67d8183a2)\" d=\"M 167.128795 146.982857 \nL 237.020223 146.982857 \nL 237.020223 216.874286 \nL 167.128795 216.874286 \nL 167.128795 146.982857 \n\" style=\"fill:#e58d94;stroke:#ffffff;stroke-width:0.5;\"/>\n    <path clip-path=\"url(#pd67d8183a2)\" d=\"M 237.020223 146.982857 \nL 306.911652 146.982857 \nL 306.911652 216.874286 \nL 237.020223 216.874286 \nL 237.020223 146.982857 \n\" style=\"fill:#78a4b2;stroke:#ffffff;stroke-width:0.5;\"/>\n    <path clip-path=\"url(#pd67d8183a2)\" d=\"M 306.911652 146.982857 \nL 376.80308 146.982857 \nL 376.80308 216.874286 \nL 306.911652 216.874286 \nL 306.911652 146.982857 \n\" style=\"fill:#efd6d7;stroke:#ffffff;stroke-width:0.5;\"/>\n    <path clip-path=\"url(#pd67d8183a2)\" d=\"M 376.80308 146.982857 \nL 446.694509 146.982857 \nL 446.694509 216.874286 \nL 376.80308 216.874286 \nL 376.80308 146.982857 \n\" style=\"fill:#f2ebeb;stroke:#ffffff;stroke-width:0.5;\"/>\n    <path clip-path=\"url(#pd67d8183a2)\" d=\"M 446.694509 146.982857 \nL 516.585938 146.982857 \nL 516.585938 216.874286 \nL 446.694509 216.874286 \nL 446.694509 146.982857 \n\" style=\"fill:#3f7f93;stroke:#ffffff;stroke-width:0.5;\"/>\n    <path clip-path=\"url(#pd67d8183a2)\" d=\"M 27.345938 216.874286 \nL 97.237366 216.874286 \nL 97.237366 286.765714 \nL 27.345938 286.765714 \nL 27.345938 216.874286 \n\" style=\"fill:#f1e5e6;stroke:#ffffff;stroke-width:0.5;\"/>\n    <path clip-path=\"url(#pd67d8183a2)\" d=\"M 97.237366 216.874286 \nL 167.128795 216.874286 \nL 167.128795 286.765714 \nL 97.237366 286.765714 \nL 97.237366 216.874286 \n\" style=\"fill:#d8e2e6;stroke:#ffffff;stroke-width:0.5;\"/>\n    <path clip-path=\"url(#pd67d8183a2)\" d=\"M 167.128795 216.874286 \nL 237.020223 216.874286 \nL 237.020223 286.765714 \nL 167.128795 286.765714 \nL 167.128795 216.874286 \n\" style=\"fill:#78a4b2;stroke:#ffffff;stroke-width:0.5;\"/>\n    <path clip-path=\"url(#pd67d8183a2)\" d=\"M 237.020223 216.874286 \nL 306.911652 216.874286 \nL 306.911652 286.765714 \nL 237.020223 286.765714 \nL 237.020223 216.874286 \n\" style=\"fill:#e58d94;stroke:#ffffff;stroke-width:0.5;\"/>\n    <path clip-path=\"url(#pd67d8183a2)\" d=\"M 306.911652 216.874286 \nL 376.80308 216.874286 \nL 376.80308 286.765714 \nL 306.911652 286.765714 \nL 306.911652 216.874286 \n\" style=\"fill:#8bb1bc;stroke:#ffffff;stroke-width:0.5;\"/>\n    <path clip-path=\"url(#pd67d8183a2)\" d=\"M 376.80308 216.874286 \nL 446.694509 216.874286 \nL 446.694509 286.765714 \nL 376.80308 286.765714 \nL 376.80308 216.874286 \n\" style=\"fill:#b2cad2;stroke:#ffffff;stroke-width:0.5;\"/>\n    <path clip-path=\"url(#pd67d8183a2)\" d=\"M 446.694509 216.874286 \nL 516.585938 216.874286 \nL 516.585938 286.765714 \nL 446.694509 286.765714 \nL 446.694509 216.874286 \n\" style=\"fill:#eed1d3;stroke:#ffffff;stroke-width:0.5;\"/>\n    <path clip-path=\"url(#pd67d8183a2)\" d=\"M 27.345938 286.765714 \nL 97.237366 286.765714 \nL 97.237366 356.657143 \nL 27.345938 356.657143 \nL 27.345938 286.765714 \n\" style=\"fill:#dde6e9;stroke:#ffffff;stroke-width:0.5;\"/>\n    <path clip-path=\"url(#pd67d8183a2)\" d=\"M 97.237366 286.765714 \nL 167.128795 286.765714 \nL 167.128795 356.657143 \nL 97.237366 356.657143 \nL 97.237366 286.765714 \n\" style=\"fill:#e4eaed;stroke:#ffffff;stroke-width:0.5;\"/>\n    <path clip-path=\"url(#pd67d8183a2)\" d=\"M 167.128795 286.765714 \nL 237.020223 286.765714 \nL 237.020223 356.657143 \nL 167.128795 356.657143 \nL 167.128795 286.765714 \n\" style=\"fill:#efd6d7;stroke:#ffffff;stroke-width:0.5;\"/>\n    <path clip-path=\"url(#pd67d8183a2)\" d=\"M 237.020223 286.765714 \nL 306.911652 286.765714 \nL 306.911652 356.657143 \nL 237.020223 356.657143 \nL 237.020223 286.765714 \n\" style=\"fill:#8bb1bc;stroke:#ffffff;stroke-width:0.5;\"/>\n    <path clip-path=\"url(#pd67d8183a2)\" d=\"M 306.911652 286.765714 \nL 376.80308 286.765714 \nL 376.80308 356.657143 \nL 306.911652 356.657143 \nL 306.911652 286.765714 \n\" style=\"fill:#e58d94;stroke:#ffffff;stroke-width:0.5;\"/>\n    <path clip-path=\"url(#pd67d8183a2)\" d=\"M 376.80308 286.765714 \nL 446.694509 286.765714 \nL 446.694509 356.657143 \nL 376.80308 356.657143 \nL 376.80308 286.765714 \n\" style=\"fill:#e58d94;stroke:#ffffff;stroke-width:0.5;\"/>\n    <path clip-path=\"url(#pd67d8183a2)\" d=\"M 446.694509 286.765714 \nL 516.585938 286.765714 \nL 516.585938 356.657143 \nL 446.694509 356.657143 \nL 446.694509 286.765714 \n\" style=\"fill:#ebbcbf;stroke:#ffffff;stroke-width:0.5;\"/>\n    <path clip-path=\"url(#pd67d8183a2)\" d=\"M 27.345938 356.657143 \nL 97.237366 356.657143 \nL 97.237366 426.548571 \nL 27.345938 426.548571 \nL 27.345938 356.657143 \n\" style=\"fill:#f2f1f1;stroke:#ffffff;stroke-width:0.5;\"/>\n    <path clip-path=\"url(#pd67d8183a2)\" d=\"M 97.237366 356.657143 \nL 167.128795 356.657143 \nL 167.128795 426.548571 \nL 97.237366 426.548571 \nL 97.237366 356.657143 \n\" style=\"fill:#efd6d7;stroke:#ffffff;stroke-width:0.5;\"/>\n    <path clip-path=\"url(#pd67d8183a2)\" d=\"M 167.128795 356.657143 \nL 237.020223 356.657143 \nL 237.020223 426.548571 \nL 167.128795 426.548571 \nL 167.128795 356.657143 \n\" style=\"fill:#f2ebeb;stroke:#ffffff;stroke-width:0.5;\"/>\n    <path clip-path=\"url(#pd67d8183a2)\" d=\"M 237.020223 356.657143 \nL 306.911652 356.657143 \nL 306.911652 426.548571 \nL 237.020223 426.548571 \nL 237.020223 356.657143 \n\" style=\"fill:#b2cad2;stroke:#ffffff;stroke-width:0.5;\"/>\n    <path clip-path=\"url(#pd67d8183a2)\" d=\"M 306.911652 356.657143 \nL 376.80308 356.657143 \nL 376.80308 426.548571 \nL 306.911652 426.548571 \nL 306.911652 356.657143 \n\" style=\"fill:#e58d94;stroke:#ffffff;stroke-width:0.5;\"/>\n    <path clip-path=\"url(#pd67d8183a2)\" d=\"M 376.80308 356.657143 \nL 446.694509 356.657143 \nL 446.694509 426.548571 \nL 376.80308 426.548571 \nL 376.80308 356.657143 \n\" style=\"fill:#e58d94;stroke:#ffffff;stroke-width:0.5;\"/>\n    <path clip-path=\"url(#pd67d8183a2)\" d=\"M 446.694509 356.657143 \nL 516.585938 356.657143 \nL 516.585938 426.548571 \nL 446.694509 426.548571 \nL 446.694509 356.657143 \n\" style=\"fill:#e9a9ae;stroke:#ffffff;stroke-width:0.5;\"/>\n    <path clip-path=\"url(#pd67d8183a2)\" d=\"M 27.345938 426.548571 \nL 97.237366 426.548571 \nL 97.237366 496.44 \nL 27.345938 496.44 \nL 27.345938 426.548571 \n\" style=\"fill:#f2eded;stroke:#ffffff;stroke-width:0.5;\"/>\n    <path clip-path=\"url(#pd67d8183a2)\" d=\"M 97.237366 426.548571 \nL 167.128795 426.548571 \nL 167.128795 496.44 \nL 97.237366 496.44 \nL 97.237366 426.548571 \n\" style=\"fill:#e79ba1;stroke:#ffffff;stroke-width:0.5;\"/>\n    <path clip-path=\"url(#pd67d8183a2)\" d=\"M 167.128795 426.548571 \nL 237.020223 426.548571 \nL 237.020223 496.44 \nL 167.128795 496.44 \nL 167.128795 426.548571 \n\" style=\"fill:#3f7f93;stroke:#ffffff;stroke-width:0.5;\"/>\n    <path clip-path=\"url(#pd67d8183a2)\" d=\"M 237.020223 426.548571 \nL 306.911652 426.548571 \nL 306.911652 496.44 \nL 237.020223 496.44 \nL 237.020223 426.548571 \n\" style=\"fill:#eed1d3;stroke:#ffffff;stroke-width:0.5;\"/>\n    <path clip-path=\"url(#pd67d8183a2)\" d=\"M 306.911652 426.548571 \nL 376.80308 426.548571 \nL 376.80308 496.44 \nL 306.911652 496.44 \nL 306.911652 426.548571 \n\" style=\"fill:#ebbcbf;stroke:#ffffff;stroke-width:0.5;\"/>\n    <path clip-path=\"url(#pd67d8183a2)\" d=\"M 376.80308 426.548571 \nL 446.694509 426.548571 \nL 446.694509 496.44 \nL 376.80308 496.44 \nL 376.80308 426.548571 \n\" style=\"fill:#e9a9ae;stroke:#ffffff;stroke-width:0.5;\"/>\n    <path clip-path=\"url(#pd67d8183a2)\" d=\"M 446.694509 426.548571 \nL 516.585938 426.548571 \nL 516.585938 496.44 \nL 446.694509 496.44 \nL 446.694509 426.548571 \n\" style=\"fill:#e58d94;stroke:#ffffff;stroke-width:0.5;\"/>\n   </g>\n  </g>\n  <g id=\"axes_2\">\n   <g id=\"patch_3\">\n    <path clip-path=\"url(#p89a6397ce2)\" d=\"M 547.275938 374.13 \nL 547.275938 373.174453 \nL 547.275938 130.465547 \nL 547.275938 129.51 \nL 559.506938 129.51 \nL 559.506938 130.465547 \nL 559.506938 373.174453 \nL 559.506938 374.13 \nz\n\" style=\"fill:#ffffff;stroke:#ffffff;stroke-linejoin:miter;stroke-width:0.01;\"/>\n   </g>\n   <g id=\"matplotlib.axis_3\"/>\n   <g id=\"matplotlib.axis_4\">\n    <g id=\"ytick_8\">\n     <g id=\"line2d_1\">\n      <defs>\n       <path d=\"M 0 0 \nL 6 0 \n\" id=\"me6663e518a\" style=\"stroke:#262626;stroke-width:1.25;\"/>\n      </defs>\n      <g>\n       <use style=\"fill:#262626;stroke:#262626;stroke-width:1.25;\" x=\"559.506938\" xlink:href=\"#me6663e518a\" y=\"359.876201\"/>\n      </g>\n     </g>\n     <g id=\"text_15\">\n      <!-- −0.5 -->\n      <g style=\"fill:#262626;\" transform=\"translate(569.006938 364.055341)scale(0.11 -0.11)\">\n       <defs>\n        <path d=\"M 10.59375 35.5 \nL 73.1875 35.5 \nL 73.1875 27.203125 \nL 10.59375 27.203125 \nz\n\" id=\"DejaVuSans-8722\"/>\n        <path d=\"M 31.78125 66.40625 \nQ 24.171875 66.40625 20.328125 58.90625 \nQ 16.5 51.421875 16.5 36.375 \nQ 16.5 21.390625 20.328125 13.890625 \nQ 24.171875 6.390625 31.78125 6.390625 \nQ 39.453125 6.390625 43.28125 13.890625 \nQ 47.125 21.390625 47.125 36.375 \nQ 47.125 51.421875 43.28125 58.90625 \nQ 39.453125 66.40625 31.78125 66.40625 \nz\nM 31.78125 74.21875 \nQ 44.046875 74.21875 50.515625 64.515625 \nQ 56.984375 54.828125 56.984375 36.375 \nQ 56.984375 17.96875 50.515625 8.265625 \nQ 44.046875 -1.421875 31.78125 -1.421875 \nQ 19.53125 -1.421875 13.0625 8.265625 \nQ 6.59375 17.96875 6.59375 36.375 \nQ 6.59375 54.828125 13.0625 64.515625 \nQ 19.53125 74.21875 31.78125 74.21875 \nz\n\" id=\"DejaVuSans-48\"/>\n        <path d=\"M 10.6875 12.40625 \nL 21 12.40625 \nL 21 0 \nL 10.6875 0 \nz\n\" id=\"DejaVuSans-46\"/>\n        <path d=\"M 10.796875 72.90625 \nL 49.515625 72.90625 \nL 49.515625 64.59375 \nL 19.828125 64.59375 \nL 19.828125 46.734375 \nQ 21.96875 47.46875 24.109375 47.828125 \nQ 26.265625 48.1875 28.421875 48.1875 \nQ 40.625 48.1875 47.75 41.5 \nQ 54.890625 34.8125 54.890625 23.390625 \nQ 54.890625 11.625 47.5625 5.09375 \nQ 40.234375 -1.421875 26.90625 -1.421875 \nQ 22.3125 -1.421875 17.546875 -0.640625 \nQ 12.796875 0.140625 7.71875 1.703125 \nL 7.71875 11.625 \nQ 12.109375 9.234375 16.796875 8.0625 \nQ 21.484375 6.890625 26.703125 6.890625 \nQ 35.15625 6.890625 40.078125 11.328125 \nQ 45.015625 15.765625 45.015625 23.390625 \nQ 45.015625 31 40.078125 35.4375 \nQ 35.15625 39.890625 26.703125 39.890625 \nQ 22.75 39.890625 18.8125 39.015625 \nQ 14.890625 38.140625 10.796875 36.28125 \nz\n\" id=\"DejaVuSans-53\"/>\n       </defs>\n       <use xlink:href=\"#DejaVuSans-8722\"/>\n       <use x=\"83.789062\" xlink:href=\"#DejaVuSans-48\"/>\n       <use x=\"147.412109\" xlink:href=\"#DejaVuSans-46\"/>\n       <use x=\"179.199219\" xlink:href=\"#DejaVuSans-53\"/>\n      </g>\n     </g>\n    </g>\n    <g id=\"ytick_9\">\n     <g id=\"line2d_2\">\n      <g>\n       <use style=\"fill:#262626;stroke:#262626;stroke-width:1.25;\" x=\"559.506938\" xlink:href=\"#me6663e518a\" y=\"331.080426\"/>\n      </g>\n     </g>\n     <g id=\"text_16\">\n      <!-- −0.4 -->\n      <g style=\"fill:#262626;\" transform=\"translate(569.006938 335.259566)scale(0.11 -0.11)\">\n       <defs>\n        <path d=\"M 37.796875 64.3125 \nL 12.890625 25.390625 \nL 37.796875 25.390625 \nz\nM 35.203125 72.90625 \nL 47.609375 72.90625 \nL 47.609375 25.390625 \nL 58.015625 25.390625 \nL 58.015625 17.1875 \nL 47.609375 17.1875 \nL 47.609375 0 \nL 37.796875 0 \nL 37.796875 17.1875 \nL 4.890625 17.1875 \nL 4.890625 26.703125 \nz\n\" id=\"DejaVuSans-52\"/>\n       </defs>\n       <use xlink:href=\"#DejaVuSans-8722\"/>\n       <use x=\"83.789062\" xlink:href=\"#DejaVuSans-48\"/>\n       <use x=\"147.412109\" xlink:href=\"#DejaVuSans-46\"/>\n       <use x=\"179.199219\" xlink:href=\"#DejaVuSans-52\"/>\n      </g>\n     </g>\n    </g>\n    <g id=\"ytick_10\">\n     <g id=\"line2d_3\">\n      <g>\n       <use style=\"fill:#262626;stroke:#262626;stroke-width:1.25;\" x=\"559.506938\" xlink:href=\"#me6663e518a\" y=\"302.284651\"/>\n      </g>\n     </g>\n     <g id=\"text_17\">\n      <!-- −0.3 -->\n      <g style=\"fill:#262626;\" transform=\"translate(569.006938 306.463791)scale(0.11 -0.11)\">\n       <defs>\n        <path d=\"M 40.578125 39.3125 \nQ 47.65625 37.796875 51.625 33 \nQ 55.609375 28.21875 55.609375 21.1875 \nQ 55.609375 10.40625 48.1875 4.484375 \nQ 40.765625 -1.421875 27.09375 -1.421875 \nQ 22.515625 -1.421875 17.65625 -0.515625 \nQ 12.796875 0.390625 7.625 2.203125 \nL 7.625 11.71875 \nQ 11.71875 9.328125 16.59375 8.109375 \nQ 21.484375 6.890625 26.8125 6.890625 \nQ 36.078125 6.890625 40.9375 10.546875 \nQ 45.796875 14.203125 45.796875 21.1875 \nQ 45.796875 27.640625 41.28125 31.265625 \nQ 36.765625 34.90625 28.71875 34.90625 \nL 20.21875 34.90625 \nL 20.21875 43.015625 \nL 29.109375 43.015625 \nQ 36.375 43.015625 40.234375 45.921875 \nQ 44.09375 48.828125 44.09375 54.296875 \nQ 44.09375 59.90625 40.109375 62.90625 \nQ 36.140625 65.921875 28.71875 65.921875 \nQ 24.65625 65.921875 20.015625 65.03125 \nQ 15.375 64.15625 9.8125 62.3125 \nL 9.8125 71.09375 \nQ 15.4375 72.65625 20.34375 73.4375 \nQ 25.25 74.21875 29.59375 74.21875 \nQ 40.828125 74.21875 47.359375 69.109375 \nQ 53.90625 64.015625 53.90625 55.328125 \nQ 53.90625 49.265625 50.4375 45.09375 \nQ 46.96875 40.921875 40.578125 39.3125 \nz\n\" id=\"DejaVuSans-51\"/>\n       </defs>\n       <use xlink:href=\"#DejaVuSans-8722\"/>\n       <use x=\"83.789062\" xlink:href=\"#DejaVuSans-48\"/>\n       <use x=\"147.412109\" xlink:href=\"#DejaVuSans-46\"/>\n       <use x=\"179.199219\" xlink:href=\"#DejaVuSans-51\"/>\n      </g>\n     </g>\n    </g>\n    <g id=\"ytick_11\">\n     <g id=\"line2d_4\">\n      <g>\n       <use style=\"fill:#262626;stroke:#262626;stroke-width:1.25;\" x=\"559.506938\" xlink:href=\"#me6663e518a\" y=\"273.488875\"/>\n      </g>\n     </g>\n     <g id=\"text_18\">\n      <!-- −0.2 -->\n      <g style=\"fill:#262626;\" transform=\"translate(569.006938 277.668016)scale(0.11 -0.11)\">\n       <defs>\n        <path d=\"M 19.1875 8.296875 \nL 53.609375 8.296875 \nL 53.609375 0 \nL 7.328125 0 \nL 7.328125 8.296875 \nQ 12.9375 14.109375 22.625 23.890625 \nQ 32.328125 33.6875 34.8125 36.53125 \nQ 39.546875 41.84375 41.421875 45.53125 \nQ 43.3125 49.21875 43.3125 52.78125 \nQ 43.3125 58.59375 39.234375 62.25 \nQ 35.15625 65.921875 28.609375 65.921875 \nQ 23.96875 65.921875 18.8125 64.3125 \nQ 13.671875 62.703125 7.8125 59.421875 \nL 7.8125 69.390625 \nQ 13.765625 71.78125 18.9375 73 \nQ 24.125 74.21875 28.421875 74.21875 \nQ 39.75 74.21875 46.484375 68.546875 \nQ 53.21875 62.890625 53.21875 53.421875 \nQ 53.21875 48.921875 51.53125 44.890625 \nQ 49.859375 40.875 45.40625 35.40625 \nQ 44.1875 33.984375 37.640625 27.21875 \nQ 31.109375 20.453125 19.1875 8.296875 \nz\n\" id=\"DejaVuSans-50\"/>\n       </defs>\n       <use xlink:href=\"#DejaVuSans-8722\"/>\n       <use x=\"83.789062\" xlink:href=\"#DejaVuSans-48\"/>\n       <use x=\"147.412109\" xlink:href=\"#DejaVuSans-46\"/>\n       <use x=\"179.199219\" xlink:href=\"#DejaVuSans-50\"/>\n      </g>\n     </g>\n    </g>\n    <g id=\"ytick_12\">\n     <g id=\"line2d_5\">\n      <g>\n       <use style=\"fill:#262626;stroke:#262626;stroke-width:1.25;\" x=\"559.506938\" xlink:href=\"#me6663e518a\" y=\"244.6931\"/>\n      </g>\n     </g>\n     <g id=\"text_19\">\n      <!-- −0.1 -->\n      <g style=\"fill:#262626;\" transform=\"translate(569.006938 248.872241)scale(0.11 -0.11)\">\n       <defs>\n        <path d=\"M 12.40625 8.296875 \nL 28.515625 8.296875 \nL 28.515625 63.921875 \nL 10.984375 60.40625 \nL 10.984375 69.390625 \nL 28.421875 72.90625 \nL 38.28125 72.90625 \nL 38.28125 8.296875 \nL 54.390625 8.296875 \nL 54.390625 0 \nL 12.40625 0 \nz\n\" id=\"DejaVuSans-49\"/>\n       </defs>\n       <use xlink:href=\"#DejaVuSans-8722\"/>\n       <use x=\"83.789062\" xlink:href=\"#DejaVuSans-48\"/>\n       <use x=\"147.412109\" xlink:href=\"#DejaVuSans-46\"/>\n       <use x=\"179.199219\" xlink:href=\"#DejaVuSans-49\"/>\n      </g>\n     </g>\n    </g>\n    <g id=\"ytick_13\">\n     <g id=\"line2d_6\">\n      <g>\n       <use style=\"fill:#262626;stroke:#262626;stroke-width:1.25;\" x=\"559.506938\" xlink:href=\"#me6663e518a\" y=\"215.897325\"/>\n      </g>\n     </g>\n     <g id=\"text_20\">\n      <!-- 0.0 -->\n      <g style=\"fill:#262626;\" transform=\"translate(569.006938 220.076466)scale(0.11 -0.11)\">\n       <use xlink:href=\"#DejaVuSans-48\"/>\n       <use x=\"63.623047\" xlink:href=\"#DejaVuSans-46\"/>\n       <use x=\"95.410156\" xlink:href=\"#DejaVuSans-48\"/>\n      </g>\n     </g>\n    </g>\n    <g id=\"ytick_14\">\n     <g id=\"line2d_7\">\n      <g>\n       <use style=\"fill:#262626;stroke:#262626;stroke-width:1.25;\" x=\"559.506938\" xlink:href=\"#me6663e518a\" y=\"187.10155\"/>\n      </g>\n     </g>\n     <g id=\"text_21\">\n      <!-- 0.1 -->\n      <g style=\"fill:#262626;\" transform=\"translate(569.006938 191.280691)scale(0.11 -0.11)\">\n       <use xlink:href=\"#DejaVuSans-48\"/>\n       <use x=\"63.623047\" xlink:href=\"#DejaVuSans-46\"/>\n       <use x=\"95.410156\" xlink:href=\"#DejaVuSans-49\"/>\n      </g>\n     </g>\n    </g>\n    <g id=\"ytick_15\">\n     <g id=\"line2d_8\">\n      <g>\n       <use style=\"fill:#262626;stroke:#262626;stroke-width:1.25;\" x=\"559.506938\" xlink:href=\"#me6663e518a\" y=\"158.305775\"/>\n      </g>\n     </g>\n     <g id=\"text_22\">\n      <!-- 0.2 -->\n      <g style=\"fill:#262626;\" transform=\"translate(569.006938 162.484916)scale(0.11 -0.11)\">\n       <use xlink:href=\"#DejaVuSans-48\"/>\n       <use x=\"63.623047\" xlink:href=\"#DejaVuSans-46\"/>\n       <use x=\"95.410156\" xlink:href=\"#DejaVuSans-50\"/>\n      </g>\n     </g>\n    </g>\n    <g id=\"ytick_16\">\n     <g id=\"line2d_9\">\n      <g>\n       <use style=\"fill:#262626;stroke:#262626;stroke-width:1.25;\" x=\"559.506938\" xlink:href=\"#me6663e518a\" y=\"129.51\"/>\n      </g>\n     </g>\n     <g id=\"text_23\">\n      <!-- 0.3 -->\n      <g style=\"fill:#262626;\" transform=\"translate(569.006938 133.689141)scale(0.11 -0.11)\">\n       <use xlink:href=\"#DejaVuSans-48\"/>\n       <use x=\"63.623047\" xlink:href=\"#DejaVuSans-46\"/>\n       <use x=\"95.410156\" xlink:href=\"#DejaVuSans-51\"/>\n      </g>\n     </g>\n    </g>\n   </g>\n   <image height=\"244\" id=\"imagefd84dc367d\" transform=\"scale(1 -1)translate(0 -244)\" width=\"13\" x=\"547\" xlink:href=\"data:image/png;base64,\niVBORw0KGgoAAAANSUhEUgAAAA0AAAD0CAYAAABAdqytAAABVUlEQVR4nO2aQW7DMAwEJdX/ytPyiL7XUQ9JmjOnwGBrMPcBvSS1pBzP2/17j+LvmHNWmXEsAgFmrDrCH0+CqCYAzWElQusIr7isTjB7XiQtEaz3QCRRk2YsWkfEO2wZoZq+Vp3ziqu6UbjDAohpIhZmuhGCwjUlTw2YPW0Sxg8AECle0/Wmu+Z7fSd8Q95KgNac+AHQh3CMPoR/hML3cm35oMaSXFzzrVuv2E8ILr7RiQifGqbDlhmzy9dEa049Ur+Y+UQCkHnp8lY3AoVrivYIscu1NQf6nviXX5n5B9M9+v7kaULFXbv8/QFMxHg8AAQeD0Gipn2iRNQhqklK+bEvqEnrcpaIzRIRrQkWl2gCkWCdUO+dJ4DCzZIdQk2T1UbtsJ9ImiaU8nbYJ7SBG4l1EtfRbDdqh/2NhI57tBtd0mHRmiM2rDUAyKiJd9i+P70gq7g//fKXZZuxU7IAAAAASUVORK5CYII=\" y=\"-129\"/>\n   <g id=\"patch_4\">\n    <path d=\"M 547.275938 374.13 \nL 547.275938 373.174453 \nL 547.275938 130.465547 \nL 547.275938 129.51 \nL 559.506938 129.51 \nL 559.506938 130.465547 \nL 559.506938 373.174453 \nL 559.506938 374.13 \nz\n\" style=\"fill:none;\"/>\n   </g>\n  </g>\n </g>\n <defs>\n  <clipPath id=\"pd67d8183a2\">\n   <rect height=\"489.24\" width=\"489.24\" x=\"27.345938\" y=\"7.2\"/>\n  </clipPath>\n  <clipPath id=\"p89a6397ce2\">\n   <rect height=\"244.62\" width=\"12.231\" x=\"547.275938\" y=\"129.51\"/>\n  </clipPath>\n </defs>\n</svg>\n",
      "image/png": "[encoded data removed]"
     },
     "metadata": {}
    }
   ],
   "source": [
    "ml.train_corr_graph()"
   ]
  },
  {
   "cell_type": "code",
   "execution_count": 5,
   "metadata": {},
   "outputs": [
    {
     "output_type": "execute_result",
     "data": {
      "text/plain": "     PassengerId  Pclass                                          Name  \\\n0            892       3                              Kelly, Mr. James   \n1            893       3              Wilkes, Mrs. James (Ellen Needs)   \n2            894       2                     Myles, Mr. Thomas Francis   \n3            895       3                              Wirz, Mr. Albert   \n4            896       3  Hirvonen, Mrs. Alexander (Helga E Lindqvist)   \n..           ...     ...                                           ...   \n413         1305       3                            Spector, Mr. Woolf   \n414         1306       1                  Oliva y Ocana, Dona. Fermina   \n415         1307       3                  Saether, Mr. Simon Sivertsen   \n416         1308       3                           Ware, Mr. Frederick   \n417         1309       3                      Peter, Master. Michael J   \n\n        Sex   Age  SibSp  Parch              Ticket      Fare Cabin Embarked  \n0      male  34.5      0      0              330911    7.8292   NaN        Q  \n1    female  47.0      1      0              363272    7.0000   NaN        S  \n2      male  62.0      0      0              240276    9.6875   NaN        Q  \n3      male  27.0      0      0              315154    8.6625   NaN        S  \n4    female  22.0      1      1             3101298   12.2875   NaN        S  \n..      ...   ...    ...    ...                 ...       ...   ...      ...  \n413    male   NaN      0      0           A.5. 3236    8.0500   NaN        S  \n414  female  39.0      0      0            PC 17758  108.9000  C105        C  \n415    male  38.5      0      0  SOTON/O.Q. 3101262    7.2500   NaN        S  \n416    male   NaN      0      0              359309    8.0500   NaN        S  \n417    male   NaN      1      1                2668   22.3583   NaN        C  \n\n[418 rows x 11 columns]",
      "text/html": "<div>\n<style scoped>\n    .dataframe tbody tr th:only-of-type {\n        vertical-align: middle;\n    }\n\n    .dataframe tbody tr th {\n        vertical-align: top;\n    }\n\n    .dataframe thead th {\n        text-align: right;\n    }\n</style>\n<table border=\"1\" class=\"dataframe\">\n  <thead>\n    <tr style=\"text-align: right;\">\n      <th></th>\n      <th>PassengerId</th>\n      <th>Pclass</th>\n      <th>Name</th>\n      <th>Sex</th>\n      <th>Age</th>\n      <th>SibSp</th>\n      <th>Parch</th>\n      <th>Ticket</th>\n      <th>Fare</th>\n      <th>Cabin</th>\n      <th>Embarked</th>\n    </tr>\n  </thead>\n  <tbody>\n    <tr>\n      <th>0</th>\n      <td>892</td>\n      <td>3</td>\n      <td>Kelly, Mr. James</td>\n      <td>male</td>\n      <td>34.5</td>\n      <td>0</td>\n      <td>0</td>\n      <td>330911</td>\n      <td>7.8292</td>\n      <td>NaN</td>\n      <td>Q</td>\n    </tr>\n    <tr>\n      <th>1</th>\n      <td>893</td>\n      <td>3</td>\n      <td>Wilkes, Mrs. James (Ellen Needs)</td>\n      <td>female</td>\n      <td>47.0</td>\n      <td>1</td>\n      <td>0</td>\n      <td>363272</td>\n      <td>7.0000</td>\n      <td>NaN</td>\n      <td>S</td>\n    </tr>\n    <tr>\n      <th>2</th>\n      <td>894</td>\n      <td>2</td>\n      <td>Myles, Mr. Thomas Francis</td>\n      <td>male</td>\n      <td>62.0</td>\n      <td>0</td>\n      <td>0</td>\n      <td>240276</td>\n      <td>9.6875</td>\n      <td>NaN</td>\n      <td>Q</td>\n    </tr>\n    <tr>\n      <th>3</th>\n      <td>895</td>\n      <td>3</td>\n      <td>Wirz, Mr. Albert</td>\n      <td>male</td>\n      <td>27.0</td>\n      <td>0</td>\n      <td>0</td>\n      <td>315154</td>\n      <td>8.6625</td>\n      <td>NaN</td>\n      <td>S</td>\n    </tr>\n    <tr>\n      <th>4</th>\n      <td>896</td>\n      <td>3</td>\n      <td>Hirvonen, Mrs. Alexander (Helga E Lindqvist)</td>\n      <td>female</td>\n      <td>22.0</td>\n      <td>1</td>\n      <td>1</td>\n      <td>3101298</td>\n      <td>12.2875</td>\n      <td>NaN</td>\n      <td>S</td>\n    </tr>\n    <tr>\n      <th>...</th>\n      <td>...</td>\n      <td>...</td>\n      <td>...</td>\n      <td>...</td>\n      <td>...</td>\n      <td>...</td>\n      <td>...</td>\n      <td>...</td>\n      <td>...</td>\n      <td>...</td>\n      <td>...</td>\n    </tr>\n    <tr>\n      <th>413</th>\n      <td>1305</td>\n      <td>3</td>\n      <td>Spector, Mr. Woolf</td>\n      <td>male</td>\n      <td>NaN</td>\n      <td>0</td>\n      <td>0</td>\n      <td>A.5. 3236</td>\n      <td>8.0500</td>\n      <td>NaN</td>\n      <td>S</td>\n    </tr>\n    <tr>\n      <th>414</th>\n      <td>1306</td>\n      <td>1</td>\n      <td>Oliva y Ocana, Dona. Fermina</td>\n      <td>female</td>\n      <td>39.0</td>\n      <td>0</td>\n      <td>0</td>\n      <td>PC 17758</td>\n      <td>108.9000</td>\n      <td>C105</td>\n      <td>C</td>\n    </tr>\n    <tr>\n      <th>415</th>\n      <td>1307</td>\n      <td>3</td>\n      <td>Saether, Mr. Simon Sivertsen</td>\n      <td>male</td>\n      <td>38.5</td>\n      <td>0</td>\n      <td>0</td>\n      <td>SOTON/O.Q. 3101262</td>\n      <td>7.2500</td>\n      <td>NaN</td>\n      <td>S</td>\n    </tr>\n    <tr>\n      <th>416</th>\n      <td>1308</td>\n      <td>3</td>\n      <td>Ware, Mr. Frederick</td>\n      <td>male</td>\n      <td>NaN</td>\n      <td>0</td>\n      <td>0</td>\n      <td>359309</td>\n      <td>8.0500</td>\n      <td>NaN</td>\n      <td>S</td>\n    </tr>\n    <tr>\n      <th>417</th>\n      <td>1309</td>\n      <td>3</td>\n      <td>Peter, Master. Michael J</td>\n      <td>male</td>\n      <td>NaN</td>\n      <td>1</td>\n      <td>1</td>\n      <td>2668</td>\n      <td>22.3583</td>\n      <td>NaN</td>\n      <td>C</td>\n    </tr>\n  </tbody>\n</table>\n<p>418 rows × 11 columns</p>\n</div>"
     },
     "metadata": {},
     "execution_count": 5
    }
   ],
   "source": [
    "ml.test"
   ]
  },
  {
   "cell_type": "markdown",
   "metadata": {},
   "source": [
    "由上述数据可以得知需要预测的是“是否能幸存”\n",
    "查空值， 查异常值， Label_Encode for Sex, Embarked\n",
    "\n",
    "- survival - Survival (0 = No; 1 = Yes)\n",
    "- class - Passenger Class (1 = 1st; 2 = 2nd; 3 = 3rd)\n",
    "- name - Name\n",
    "- sex - Sex\n",
    "- age - Age\n",
    "- sibsp - Number of Siblings/Spouses Aboard\n",
    "- parch - Number of Parents/Children Aboard\n",
    "- ticket - Ticket Number\n",
    "- fare - Passenger Fare\n",
    "- cabin - Cabin\n",
    "- embarked - Port of Embarkation (C = Cherbourg; Q = Queenstown; S = Southampton)\n",
    "- boat - Lifeboat (if survived)\n",
    "- body - Body number (if did not survive and body was recovered)"
   ]
  },
  {
   "cell_type": "code",
   "execution_count": 6,
   "metadata": {},
   "outputs": [],
   "source": [
    "# Merge train and test\n",
    "ml.add_label_for_test('Survived')\n",
    "ml.merge_train_and_test()"
   ]
  },
  {
   "cell_type": "code",
   "execution_count": 7,
   "metadata": {
    "tags": []
   },
   "outputs": [
    {
     "output_type": "stream",
     "name": "stdout",
     "text": "<class 'pandas.core.frame.DataFrame'>\nRangeIndex: 1309 entries, 0 to 1308\nData columns (total 12 columns):\n #   Column       Non-Null Count  Dtype  \n---  ------       --------------  -----  \n 0   PassengerId  1309 non-null   int64  \n 1   Survived     1309 non-null   int64  \n 2   Pclass       1309 non-null   int64  \n 3   Name         1309 non-null   object \n 4   Sex          1309 non-null   object \n 5   Age          1046 non-null   float64\n 6   SibSp        1309 non-null   int64  \n 7   Parch        1309 non-null   int64  \n 8   Ticket       1309 non-null   object \n 9   Fare         1308 non-null   float64\n 10  Cabin        295 non-null    object \n 11  Embarked     1307 non-null   object \ndtypes: float64(2), int64(5), object(5)\nmemory usage: 122.8+ KB\n"
    }
   ],
   "source": [
    "ml.data.info()"
   ]
  },
  {
   "cell_type": "code",
   "execution_count": 8,
   "metadata": {},
   "outputs": [
    {
     "output_type": "execute_result",
     "data": {
      "text/plain": "       PassengerId     Survived       Pclass          Age        SibSp  \\\ncount  1309.000000  1309.000000  1309.000000  1046.000000  1309.000000   \nmean    655.000000    -0.058060     2.294882    29.881138     0.498854   \nstd     378.020061     0.760044     0.837836    14.413493     1.041658   \nmin       1.000000    -1.000000     1.000000     0.170000     0.000000   \n25%     328.000000    -1.000000     2.000000    21.000000     0.000000   \n50%     655.000000     0.000000     3.000000    28.000000     0.000000   \n75%     982.000000     1.000000     3.000000    39.000000     1.000000   \nmax    1309.000000     1.000000     3.000000    80.000000     8.000000   \n\n             Parch         Fare  \ncount  1309.000000  1308.000000  \nmean      0.385027    33.295479  \nstd       0.865560    51.758668  \nmin       0.000000     0.000000  \n25%       0.000000     7.895800  \n50%       0.000000    14.454200  \n75%       0.000000    31.275000  \nmax       9.000000   512.329200  ",
      "text/html": "<div>\n<style scoped>\n    .dataframe tbody tr th:only-of-type {\n        vertical-align: middle;\n    }\n\n    .dataframe tbody tr th {\n        vertical-align: top;\n    }\n\n    .dataframe thead th {\n        text-align: right;\n    }\n</style>\n<table border=\"1\" class=\"dataframe\">\n  <thead>\n    <tr style=\"text-align: right;\">\n      <th></th>\n      <th>PassengerId</th>\n      <th>Survived</th>\n      <th>Pclass</th>\n      <th>Age</th>\n      <th>SibSp</th>\n      <th>Parch</th>\n      <th>Fare</th>\n    </tr>\n  </thead>\n  <tbody>\n    <tr>\n      <th>count</th>\n      <td>1309.000000</td>\n      <td>1309.000000</td>\n      <td>1309.000000</td>\n      <td>1046.000000</td>\n      <td>1309.000000</td>\n      <td>1309.000000</td>\n      <td>1308.000000</td>\n    </tr>\n    <tr>\n      <th>mean</th>\n      <td>655.000000</td>\n      <td>-0.058060</td>\n      <td>2.294882</td>\n      <td>29.881138</td>\n      <td>0.498854</td>\n      <td>0.385027</td>\n      <td>33.295479</td>\n    </tr>\n    <tr>\n      <th>std</th>\n      <td>378.020061</td>\n      <td>0.760044</td>\n      <td>0.837836</td>\n      <td>14.413493</td>\n      <td>1.041658</td>\n      <td>0.865560</td>\n      <td>51.758668</td>\n    </tr>\n    <tr>\n      <th>min</th>\n      <td>1.000000</td>\n      <td>-1.000000</td>\n      <td>1.000000</td>\n      <td>0.170000</td>\n      <td>0.000000</td>\n      <td>0.000000</td>\n      <td>0.000000</td>\n    </tr>\n    <tr>\n      <th>25%</th>\n      <td>328.000000</td>\n      <td>-1.000000</td>\n      <td>2.000000</td>\n      <td>21.000000</td>\n      <td>0.000000</td>\n      <td>0.000000</td>\n      <td>7.895800</td>\n    </tr>\n    <tr>\n      <th>50%</th>\n      <td>655.000000</td>\n      <td>0.000000</td>\n      <td>3.000000</td>\n      <td>28.000000</td>\n      <td>0.000000</td>\n      <td>0.000000</td>\n      <td>14.454200</td>\n    </tr>\n    <tr>\n      <th>75%</th>\n      <td>982.000000</td>\n      <td>1.000000</td>\n      <td>3.000000</td>\n      <td>39.000000</td>\n      <td>1.000000</td>\n      <td>0.000000</td>\n      <td>31.275000</td>\n    </tr>\n    <tr>\n      <th>max</th>\n      <td>1309.000000</td>\n      <td>1.000000</td>\n      <td>3.000000</td>\n      <td>80.000000</td>\n      <td>8.000000</td>\n      <td>9.000000</td>\n      <td>512.329200</td>\n    </tr>\n  </tbody>\n</table>\n</div>"
     },
     "metadata": {},
     "execution_count": 8
    }
   ],
   "source": [
    "ml.data.describe()"
   ]
  },
  {
   "cell_type": "code",
   "execution_count": 9,
   "metadata": {},
   "outputs": [
    {
     "output_type": "execute_result",
     "data": {
      "text/plain": "S    914\nC    270\nQ    123\nName: Embarked, dtype: int64"
     },
     "metadata": {},
     "execution_count": 9
    }
   ],
   "source": [
    "ml.data['Embarked'].value_counts()"
   ]
  },
  {
   "cell_type": "code",
   "execution_count": 10,
   "metadata": {},
   "outputs": [],
   "source": [
    "# 数据清洗, Age , Cabin, Embarked 有空值\n",
    "ml.fill_none('Age', ml.data['Age'].mean())\n",
    "ml.fill_none('Fare', ml.data['Fare'].mean())\n",
    "ml.fill_none('Embarked', ml.data['Embarked'].value_counts().index[0])\n",
    "\n",
    "# Cabin的值缺失了超过77%： （1308 - 295）/ 1308， 所以补齐并没有实际意义\n",
    "# 票号不统一，可以试一试，也许有一线可能性，比如编号小的是头等舱，生还机率大。\n",
    "# 但在此练习中，Fare应该能体现船舱级别， 因此扔掉此列\n",
    "# 名字，没法转成数字，也不会对结果产生什么影响，所以也去掉\n",
    "ml.drop_column(['Ticket', 'Cabin', 'Name'])"
   ]
  },
  {
   "cell_type": "code",
   "execution_count": 11,
   "metadata": {
    "tags": []
   },
   "outputs": [
    {
     "output_type": "stream",
     "name": "stdout",
     "text": "<class 'pandas.core.frame.DataFrame'>\nRangeIndex: 1309 entries, 0 to 1308\nData columns (total 9 columns):\n #   Column       Non-Null Count  Dtype  \n---  ------       --------------  -----  \n 0   PassengerId  1309 non-null   int64  \n 1   Survived     1309 non-null   int64  \n 2   Pclass       1309 non-null   int64  \n 3   Sex          1309 non-null   object \n 4   Age          1309 non-null   float64\n 5   SibSp        1309 non-null   int64  \n 6   Parch        1309 non-null   int64  \n 7   Fare         1309 non-null   float64\n 8   Embarked     1309 non-null   object \ndtypes: float64(2), int64(5), object(2)\nmemory usage: 92.2+ KB\n"
    }
   ],
   "source": [
    "ml.data.info()"
   ]
  },
  {
   "cell_type": "code",
   "execution_count": 12,
   "metadata": {
    "tags": []
   },
   "outputs": [
    {
     "output_type": "display_data",
     "data": {
      "text/plain": "HBox(children=(FloatProgress(value=0.0, max=2.0), HTML(value='')))",
      "application/vnd.jupyter.widget-view+json": {
       "version_major": 2,
       "version_minor": 0,
       "model_id": "582173c7d38144b79b65efd353ad1761"
      }
     },
     "metadata": {}
    },
    {
     "output_type": "stream",
     "name": "stdout",
     "text": "\n"
    }
   ],
   "source": [
    "# Label-Encode\n",
    "ml.label_encoder(['Sex', 'Embarked'])\n",
    "# Min_Min_Scaler\n",
    "ml.min_max_scaler(['Fare'])\n",
    "# One-Hot\n",
    "ml.one_hot(['Pclass', 'Sex', 'Embarked'])"
   ]
  },
  {
   "cell_type": "code",
   "execution_count": 13,
   "metadata": {},
   "outputs": [
    {
     "output_type": "execute_result",
     "data": {
      "text/plain": "      PassengerId  Survived        Age  SibSp  Parch      Fare  Pclass_1  \\\n0               1         0  22.000000      1      0  0.014151         0   \n1               2         1  38.000000      1      0  0.139136         1   \n2               3         1  26.000000      0      0  0.015469         0   \n3               4         1  35.000000      1      0  0.103644         1   \n4               5         0  35.000000      0      0  0.015713         0   \n...           ...       ...        ...    ...    ...       ...       ...   \n1304         1305        -1  29.881138      0      0  0.015713         0   \n1305         1306        -1  39.000000      0      0  0.212559         1   \n1306         1307        -1  38.500000      0      0  0.014151         0   \n1307         1308        -1  29.881138      0      0  0.015713         0   \n1308         1309        -1  29.881138      1      1  0.043640         0   \n\n      Pclass_2  Pclass_3  Sex_0  Sex_1  Embarked_0  Embarked_1  Embarked_2  \n0            0         1      0      1           0           0           1  \n1            0         0      1      0           1           0           0  \n2            0         1      1      0           0           0           1  \n3            0         0      1      0           0           0           1  \n4            0         1      0      1           0           0           1  \n...        ...       ...    ...    ...         ...         ...         ...  \n1304         0         1      0      1           0           0           1  \n1305         0         0      1      0           1           0           0  \n1306         0         1      0      1           0           0           1  \n1307         0         1      0      1           0           0           1  \n1308         0         1      0      1           1           0           0  \n\n[1309 rows x 14 columns]",
      "text/html": "<div>\n<style scoped>\n    .dataframe tbody tr th:only-of-type {\n        vertical-align: middle;\n    }\n\n    .dataframe tbody tr th {\n        vertical-align: top;\n    }\n\n    .dataframe thead th {\n        text-align: right;\n    }\n</style>\n<table border=\"1\" class=\"dataframe\">\n  <thead>\n    <tr style=\"text-align: right;\">\n      <th></th>\n      <th>PassengerId</th>\n      <th>Survived</th>\n      <th>Age</th>\n      <th>SibSp</th>\n      <th>Parch</th>\n      <th>Fare</th>\n      <th>Pclass_1</th>\n      <th>Pclass_2</th>\n      <th>Pclass_3</th>\n      <th>Sex_0</th>\n      <th>Sex_1</th>\n      <th>Embarked_0</th>\n      <th>Embarked_1</th>\n      <th>Embarked_2</th>\n    </tr>\n  </thead>\n  <tbody>\n    <tr>\n      <th>0</th>\n      <td>1</td>\n      <td>0</td>\n      <td>22.000000</td>\n      <td>1</td>\n      <td>0</td>\n      <td>0.014151</td>\n      <td>0</td>\n      <td>0</td>\n      <td>1</td>\n      <td>0</td>\n      <td>1</td>\n      <td>0</td>\n      <td>0</td>\n      <td>1</td>\n    </tr>\n    <tr>\n      <th>1</th>\n      <td>2</td>\n      <td>1</td>\n      <td>38.000000</td>\n      <td>1</td>\n      <td>0</td>\n      <td>0.139136</td>\n      <td>1</td>\n      <td>0</td>\n      <td>0</td>\n      <td>1</td>\n      <td>0</td>\n      <td>1</td>\n      <td>0</td>\n      <td>0</td>\n    </tr>\n    <tr>\n      <th>2</th>\n      <td>3</td>\n      <td>1</td>\n      <td>26.000000</td>\n      <td>0</td>\n      <td>0</td>\n      <td>0.015469</td>\n      <td>0</td>\n      <td>0</td>\n      <td>1</td>\n      <td>1</td>\n      <td>0</td>\n      <td>0</td>\n      <td>0</td>\n      <td>1</td>\n    </tr>\n    <tr>\n      <th>3</th>\n      <td>4</td>\n      <td>1</td>\n      <td>35.000000</td>\n      <td>1</td>\n      <td>0</td>\n      <td>0.103644</td>\n      <td>1</td>\n      <td>0</td>\n      <td>0</td>\n      <td>1</td>\n      <td>0</td>\n      <td>0</td>\n      <td>0</td>\n      <td>1</td>\n    </tr>\n    <tr>\n      <th>4</th>\n      <td>5</td>\n      <td>0</td>\n      <td>35.000000</td>\n      <td>0</td>\n      <td>0</td>\n      <td>0.015713</td>\n      <td>0</td>\n      <td>0</td>\n      <td>1</td>\n      <td>0</td>\n      <td>1</td>\n      <td>0</td>\n      <td>0</td>\n      <td>1</td>\n    </tr>\n    <tr>\n      <th>...</th>\n      <td>...</td>\n      <td>...</td>\n      <td>...</td>\n      <td>...</td>\n      <td>...</td>\n      <td>...</td>\n      <td>...</td>\n      <td>...</td>\n      <td>...</td>\n      <td>...</td>\n      <td>...</td>\n      <td>...</td>\n      <td>...</td>\n      <td>...</td>\n    </tr>\n    <tr>\n      <th>1304</th>\n      <td>1305</td>\n      <td>-1</td>\n      <td>29.881138</td>\n      <td>0</td>\n      <td>0</td>\n      <td>0.015713</td>\n      <td>0</td>\n      <td>0</td>\n      <td>1</td>\n      <td>0</td>\n      <td>1</td>\n      <td>0</td>\n      <td>0</td>\n      <td>1</td>\n    </tr>\n    <tr>\n      <th>1305</th>\n      <td>1306</td>\n      <td>-1</td>\n      <td>39.000000</td>\n      <td>0</td>\n      <td>0</td>\n      <td>0.212559</td>\n      <td>1</td>\n      <td>0</td>\n      <td>0</td>\n      <td>1</td>\n      <td>0</td>\n      <td>1</td>\n      <td>0</td>\n      <td>0</td>\n    </tr>\n    <tr>\n      <th>1306</th>\n      <td>1307</td>\n      <td>-1</td>\n      <td>38.500000</td>\n      <td>0</td>\n      <td>0</td>\n      <td>0.014151</td>\n      <td>0</td>\n      <td>0</td>\n      <td>1</td>\n      <td>0</td>\n      <td>1</td>\n      <td>0</td>\n      <td>0</td>\n      <td>1</td>\n    </tr>\n    <tr>\n      <th>1307</th>\n      <td>1308</td>\n      <td>-1</td>\n      <td>29.881138</td>\n      <td>0</td>\n      <td>0</td>\n      <td>0.015713</td>\n      <td>0</td>\n      <td>0</td>\n      <td>1</td>\n      <td>0</td>\n      <td>1</td>\n      <td>0</td>\n      <td>0</td>\n      <td>1</td>\n    </tr>\n    <tr>\n      <th>1308</th>\n      <td>1309</td>\n      <td>-1</td>\n      <td>29.881138</td>\n      <td>1</td>\n      <td>1</td>\n      <td>0.043640</td>\n      <td>0</td>\n      <td>0</td>\n      <td>1</td>\n      <td>0</td>\n      <td>1</td>\n      <td>1</td>\n      <td>0</td>\n      <td>0</td>\n    </tr>\n  </tbody>\n</table>\n<p>1309 rows × 14 columns</p>\n</div>"
     },
     "metadata": {},
     "execution_count": 13
    }
   ],
   "source": [
    "ml.data"
   ]
  },
  {
   "cell_type": "code",
   "execution_count": 14,
   "metadata": {
    "tags": []
   },
   "outputs": [
    {
     "output_type": "stream",
     "name": "stdout",
     "text": "Features：12\n"
    },
    {
     "output_type": "execute_result",
     "data": {
      "text/plain": "['Age',\n 'SibSp',\n 'Parch',\n 'Fare',\n 'Pclass_1',\n 'Pclass_2',\n 'Pclass_3',\n 'Sex_0',\n 'Sex_1',\n 'Embarked_0',\n 'Embarked_1',\n 'Embarked_2']"
     },
     "metadata": {},
     "execution_count": 14
    }
   ],
   "source": [
    "# 特征选择\n",
    "ml.set_features_without(['PassengerId','Survived'])"
   ]
  },
  {
   "cell_type": "markdown",
   "metadata": {},
   "source": [
    "## Logistic Regression 逻辑回归"
   ]
  },
  {
   "cell_type": "code",
   "execution_count": 15,
   "metadata": {
    "tags": []
   },
   "outputs": [
    {
     "output_type": "stream",
     "name": "stdout",
     "text": "LR AUC:           0.7797011136114477\n"
    }
   ],
   "source": [
    "ml.predict('lr')\n",
    "ml.save_predict('PassengerId', 'Survived', './titanic/baseline_lr.csv')"
   ]
  },
  {
   "cell_type": "markdown",
   "metadata": {},
   "source": [
    "## ID3 决策树\n"
   ]
  },
  {
   "cell_type": "code",
   "execution_count": 16,
   "metadata": {
    "tags": []
   },
   "outputs": [
    {
     "output_type": "stream",
     "name": "stdout",
     "text": "LR AUC:           0.7477352720558538\n"
    }
   ],
   "source": [
    "ml.predict('id3_c')\n",
    "ml.save_predict('PassengerId', 'Survived', './titanic/baseline_id3_c.csv')"
   ]
  },
  {
   "cell_type": "markdown",
   "metadata": {},
   "source": [
    "## Adaboost"
   ]
  },
  {
   "cell_type": "code",
   "execution_count": 17,
   "metadata": {
    "tags": []
   },
   "outputs": [
    {
     "output_type": "stream",
     "name": "stdout",
     "text": "LR AUC:           0.7654203450464486\n"
    }
   ],
   "source": [
    "ml.predict('ada_c')\n",
    "ml.save_predict('PassengerId', 'Survived', './titanic/baseline_ada_c.csv')"
   ]
  },
  {
   "cell_type": "markdown",
   "metadata": {},
   "source": [
    "## XGBoost "
   ]
  },
  {
   "cell_type": "code",
   "execution_count": 18,
   "metadata": {
    "tags": []
   },
   "outputs": [
    {
     "output_type": "stream",
     "name": "stdout",
     "text": "LR AUC:           0.776296809185852\n"
    }
   ],
   "source": [
    "pred_lr = ml.predict('xgb_c')\n",
    "ml.save_predict('PassengerId', 'Survived', './titanic/baseline_xgb_c.csv')"
   ]
  },
  {
   "cell_type": "markdown",
   "metadata": {},
   "source": [
    "## TPOT"
   ]
  },
  {
   "cell_type": "code",
   "execution_count": 19,
   "metadata": {},
   "outputs": [],
   "source": [
    "#This block is already excuted. It was commented, because of slow excution\n",
    "#ml.run_tpot('./tpot_mnist_pipeline.py')"
   ]
  },
  {
   "cell_type": "markdown",
   "metadata": {},
   "source": [
    "### Result of TPOT\n",
    "- Generation 1 - Current best internal CV score: 0.8105677419354839\n",
    "- Generation 2 - Current best internal CV score: 0.8153419354838709\n",
    "- Generation 3 - Current best internal CV score: 0.8154064516129031\n",
    "- Generation 4 - Current best internal CV score: 0.8154064516129031\n",
    "- Generation 5 - Current best internal CV score: 0.8249935483870969\n",
    "Best pipeline: XGBClassifier(input_matrix, learning_rate=0.1, max_depth=7, min_child_weight=6, n_estimators=100, nthread=1, subsample=0.8500000000000001)\n",
    "0.8283582089552238\n",
    "\n",
    "NOTE: Make sure that the outcome column is labeled 'target' in the data file\n",
    "tpot_data = pd.read_csv('PATH/TO/DATA/FILE', sep='COLUMN_SEPARATOR', dtype=np.float64)\n",
    "features = tpot_data.drop('target', axis=1)\n",
    "training_features, testing_features, training_target, testing_target = \\\n",
    "            train_test_split(features, tpot_data['target'], random_state=None)\n",
    "\n",
    "Average CV score on the training set was: 0.8249935483870969\n",
    "exported_pipeline = XGBClassifier(learning_rate=0.1, max_depth=7, min_child_weight=6, n_estimators=100, nthread=1, subsample=0.8500000000000001)\n",
    "\n",
    "exported_pipeline.fit(training_features, training_target)\n",
    "results = exported_pipeline.predict(testing_features)"
   ]
  },
  {
   "cell_type": "markdown",
   "metadata": {},
   "source": [
    "### Call XGBClassifier one more time, and the parameter are according to the advice from TPOP above."
   ]
  },
  {
   "cell_type": "code",
   "execution_count": 20,
   "metadata": {
    "tags": []
   },
   "outputs": [
    {
     "output_type": "stream",
     "name": "stdout",
     "text": "LR AUC:           0.8137730079049104\n"
    }
   ],
   "source": [
    "modelSetup = mlf.ModelSetup()\n",
    "modelSetup.set_values('xgb_c', 'learning_rate=0.1, max_depth=7, min_child_weight=6, n_estimators=100, nthread=1, subsample=0.8500000000000001')\n",
    "\n",
    "ml.predict('xgb_c', modelSetup)\n",
    "ml.save_predict('PassengerId', 'Survived', './titanic/baseline_xgb_c_tpot.csv')"
   ]
  },
  {
   "cell_type": "code",
   "execution_count": null,
   "metadata": {},
   "outputs": [],
   "source": []
  }
 ],
 "metadata": {
  "kernelspec": {
   "display_name": "Python 3",
   "language": "python",
   "name": "python3"
  },
  "language_info": {
   "codemirror_mode": {
    "name": "ipython",
    "version": 3
   },
   "file_extension": ".py",
   "mimetype": "text/x-python",
   "name": "python",
   "nbconvert_exporter": "python",
   "pygments_lexer": "ipython3",
   "version": "3.8.5-final"
  }
 },
 "nbformat": 4,
 "nbformat_minor": 4
}