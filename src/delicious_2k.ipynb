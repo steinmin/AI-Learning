{
 "cells": [
  {
   "cell_type": "markdown",
   "metadata": {},
   "source": [
    "# 名企作业 2020-11-21, 石敏"
   ]
  },
  {
   "cell_type": "markdown",
   "metadata": {},
   "source": [
    "## Action 1"
   ]
  },
  {
   "cell_type": "markdown",
   "metadata": {},
   "source": [
    "## 针对Delicious数据集，对SimpleTagBased算法进行改进（使用NormTagBased、TagBased-TFIDF算法）\n",
    "Delicious数据集：https://grouplens.org/datasets/hetrec-2011/\n",
    "\n",
    "1867名用户，105000个书签，53388个标签\n",
    "\n",
    "格式：\n",
    "userID           bookmarkID            tagID                timestamp"
   ]
  },
  {
   "cell_type": "code",
   "execution_count": 1,
   "metadata": {},
   "outputs": [],
   "source": [
    "import random\n",
    "import math\n",
    "import operator\n",
    "import pandas as pd"
   ]
  },
  {
   "cell_type": "code",
   "execution_count": 2,
   "metadata": {},
   "outputs": [],
   "source": [
    "file_path = \"./delicious_2k/user_taggedbookmarks-timestamps.dat\"\n",
    "# 字典类型，保存了user对item的tag，即{userid: {item1:[tag1, tag2], ...}}\n",
    "records = {}"
   ]
  },
  {
   "cell_type": "code",
   "execution_count": 3,
   "metadata": {},
   "outputs": [
    {
     "name": "stdout",
     "output_type": "stream",
     "text": [
      "开始数据加载...\n",
      "数据集大小为 437593.\n",
      "设置tag的人数 1867.\n",
      "数据加载完成\n",
      "\n"
     ]
    }
   ],
   "source": [
    "# 数据加载\n",
    "def load_data(path):\n",
    "    print(\"开始数据加载...\")\n",
    "    df = pd.read_csv(path, sep='\\t')\n",
    "    for i in range(len(df)):\n",
    "        uid = df['userID'][i]\n",
    "        iid = df['bookmarkID'][i]\n",
    "        tag = df['tagID'][i]\n",
    "        # 键不存在时，设置默认值{}\n",
    "        records.setdefault(uid,{})\n",
    "        records[uid].setdefault(iid,[])\n",
    "        records[uid][iid].append(tag)\n",
    "    print(\"数据集大小为 %d.\" % (len(df)))\n",
    "    print(\"设置tag的人数 %d.\" % (len(records)))\n",
    "    print(\"数据加载完成\\n\")\n",
    "    \n",
    "load_data(file_path)\n"
   ]
  },
  {
   "cell_type": "code",
   "execution_count": 4,
   "metadata": {},
   "outputs": [],
   "source": [
    "# 训练集，测试集\n",
    "train_data = dict()\n",
    "test_data = dict()"
   ]
  },
  {
   "cell_type": "code",
   "execution_count": 5,
   "metadata": {},
   "outputs": [
    {
     "name": "stdout",
     "output_type": "stream",
     "text": [
      "训练集样本数 1860, 测试集样本数 1786\n"
     ]
    }
   ],
   "source": [
    "# 将数据集拆分为训练集和测试集\n",
    "def train_test_split(ratio, seed=100):\n",
    "    random.seed(seed)\n",
    "    for u in records.keys():\n",
    "        for i in records[u].keys():\n",
    "            # ratio比例设置为测试集\n",
    "            if random.random()<ratio:\n",
    "                test_data.setdefault(u,{})\n",
    "                test_data[u].setdefault(i,[])\n",
    "                for t in records[u][i]:\n",
    "                    test_data[u][i].append(t)\n",
    "            else:\n",
    "                train_data.setdefault(u,{})\n",
    "                train_data[u].setdefault(i,[])\n",
    "                for t in records[u][i]:\n",
    "                    train_data[u][i].append(t)\n",
    "                    \n",
    "    # remove the users who are in test_data, but not in train_data\n",
    "    for key in [k for k in test_data.keys() if k not in train_data]:\n",
    "        test_data.pop(key, None)\n",
    "    print(\"训练集样本数 %d, 测试集样本数 %d\" % (len(train_data),len(test_data)))\n",
    "    \n",
    "# 训练集，测试集拆分，20%测试集\n",
    "train_test_split(0.2)"
   ]
  },
  {
   "cell_type": "code",
   "execution_count": 6,
   "metadata": {},
   "outputs": [],
   "source": [
    "# 用户标签，商品标签\n",
    "user_tags = dict()\n",
    "tag_items = dict()\n",
    "user_items = dict()\n",
    "tag_users = dict()"
   ]
  },
  {
   "cell_type": "code",
   "execution_count": 7,
   "metadata": {},
   "outputs": [
    {
     "name": "stdout",
     "output_type": "stream",
     "text": [
      "user_tags, tag_items, user_items初始化完成.\n",
      "user_tags: 1860   user_items: 1860\n",
      "tag_users: 36884,   tag_items: 36884\n"
     ]
    }
   ],
   "source": [
    "# 使用dictionary统计值的个数,每有重复，值加1。\n",
    "def count_weight(count_dict, key, value, weight=1):\n",
    "    if key not in count_dict:\n",
    "        count_dict.setdefault(key, {})\n",
    "        count_dict[key].setdefault(value, weight)\n",
    "    else:\n",
    "        if value not in count_dict[key]:\n",
    "            count_dict[key][value] = weight\n",
    "        else:\n",
    "            count_dict[key][value] += weight\n",
    "\n",
    "\n",
    "# 使用训练集，初始化user_tags, tag_items, user_items, tag_users\n",
    "def initStat():\n",
    "    for user, bookmarks in train_data.items():\n",
    "        for bookmark,tags in bookmarks.items():\n",
    "            for tag in tags:\n",
    "                #print tag\n",
    "                # 用户和tag的关系\n",
    "                count_weight(user_tags, user, tag)\n",
    "                # tag和bookmark的关系\n",
    "                count_weight(tag_items, tag, bookmark)\n",
    "                # 用户和bookmark的关系\n",
    "                count_weight(user_items, user, bookmark)\n",
    "                # tag和用户的关系\n",
    "                count_weight(tag_users, tag, user)\n",
    "    print(\"user_tags, tag_items, user_items初始化完成.\")\n",
    "    print(\"user_tags: %d   user_items: %d\" % (len(user_tags), len(user_items)))\n",
    "    print(\"tag_users: %d,   tag_items: %d\" % (len(tag_users), len(tag_items)))\n",
    "\n",
    "\n",
    "initStat()"
   ]
  },
  {
   "cell_type": "code",
   "execution_count": 8,
   "metadata": {},
   "outputs": [
    {
     "name": "stdout",
     "output_type": "stream",
     "text": [
      "推荐结果评估(Simple Tag Based)：\n",
      "  N        精确率        召回率\n",
      "  5      0.829%      0.355%\n",
      " 10      0.633%      0.542%\n",
      " 20      0.512%      0.877%\n",
      " 40      0.381%      1.304%\n",
      " 60      0.318%      1.635%\n",
      " 80      0.276%      1.893%\n",
      "100      0.248%      2.124%\n"
     ]
    }
   ],
   "source": [
    "# 对用户user推荐Top-N\n",
    "def recommend_simple_tag(user, N):\n",
    "    simpleTag=dict()\n",
    "    # 对Item进行打分，分数为所有的（用户对某标签使用的次数 wut, 乘以 商品被打上相同标签的次数 wti）之和\n",
    "    for tag, wut in user_tags[user].items(): # 用户使用标签t的次数\n",
    "        for item, wti in tag_items[tag].items(): #商品i被打过标签t的次数\n",
    "            if item in user_items[user]: continue\n",
    "            # 用户对该商品打过标签，就对该商品的SimpleTag进行累加\n",
    "            if item not in simpleTag: simpleTag[item] = 0\n",
    "            simpleTag[item] += wut * wti\n",
    "    return sorted(simpleTag.items(), key=operator.itemgetter(1), reverse=True)[0:N]\n",
    "\n",
    "# 使用测试集，计算准确率和召回率, 两率与Tag没有关系，只和商品有关系\n",
    "def precisionAndRecall(N, recommend):\n",
    "    hit, h_recall, h_precision = (0, 0, 0)\n",
    "    for user,items in test_data.items():\n",
    "        # 获取Top-N推荐列表\n",
    "        rank = recommend(user, N)\n",
    "        for item, _ in rank:\n",
    "            if item in items:\n",
    "                hit += 1        #相当于TP： 关注的商品在推荐列表里，算命中一次\n",
    "        h_recall += len(items)  #TP + FN, 关注的商品总数\n",
    "        h_precision += N        #TP + FP， 关注的商品在推荐列表里，不关注的也在推荐列表里，所以就是推荐表的长度\n",
    "    #print('一共命中 %d 个, 一共推荐 %d 个, 用户设置tag总数 %d 个' %(hit, h_precision, h_recall))\n",
    "    # 返回准确率 和 召回率\n",
    "    return (hit/(h_precision*1.0)), (hit/(h_recall*1.0))\n",
    "\n",
    "\n",
    "print(\"推荐结果评估(Simple Tag Based)：\")\n",
    "print(\"%3s %10s %10s\" % ('N',\"精确率\",'召回率'))\n",
    "for n in [5,10,20,40,60,80,100]:\n",
    "    precision,recall = precisionAndRecall(n, recommend_simple_tag)\n",
    "    print(\"%3d %10.3f%% %10.3f%%\" % (n, precision * 100, recall * 100))\n"
   ]
  },
  {
   "cell_type": "code",
   "execution_count": 9,
   "metadata": {},
   "outputs": [
    {
     "name": "stdout",
     "output_type": "stream",
     "text": [
      "推荐结果评估(Norm Tag Based)：\n",
      "  N        精确率        召回率\n",
      "  5      0.806%      0.345%\n",
      " 10      0.577%      0.494%\n",
      " 20      0.428%      0.733%\n",
      " 40      0.300%      1.026%\n",
      " 60      0.259%      1.333%\n",
      " 80      0.237%      1.620%\n",
      "100      0.222%      1.903%\n"
     ]
    }
   ],
   "source": [
    "# 对用户user推荐Top-N\n",
    "def recommend_norm_tag(user, N):\n",
    "    simpleTag=dict()\n",
    "    # 对Item进行打分，分数为所有的（用户对某标签使用的次数 wut, 乘以 商品被打上相同标签的次数 wti）之和\n",
    "    for tag, wut in user_tags[user].items(): # 用户使用标签t的次数\n",
    "        for item, wti in tag_items[tag].items(): #商品i被打过标签t的次数\n",
    "            if item in user_items[user]: continue\n",
    "            \n",
    "            #norm\n",
    "            norm = len(user_tags[user].items()) * len(tag_items[tag].items())                \n",
    "            # 用户对该商品打过标签，就对该商品的SimpleTag进行累加\n",
    "            if item not in simpleTag: simpleTag[item] = 0\n",
    "            simpleTag[item] += wut * wti / norm\n",
    "    return sorted(simpleTag.items(), key=operator.itemgetter(1), reverse=True)[0:N]\n",
    "\n",
    "print(\"推荐结果评估(Norm Tag Based)：\")\n",
    "print(\"%3s %10s %10s\" % ('N',\"精确率\",'召回率'))\n",
    "for n in [5,10,20,40,60,80,100]:\n",
    "    precision,recall = precisionAndRecall(n, recommend_norm_tag)\n",
    "    print(\"%3d %10.3f%% %10.3f%%\" % (n, precision * 100, recall * 100))"
   ]
  },
  {
   "cell_type": "code",
   "execution_count": 10,
   "metadata": {},
   "outputs": [
    {
     "name": "stdout",
     "output_type": "stream",
     "text": [
      "推荐结果评估(Tag Based - TFIDF)：\n",
      "  N        精确率        召回率\n",
      "  5      1.008%      0.431%\n",
      " 10      0.761%      0.652%\n",
      " 20      0.549%      0.940%\n",
      " 40      0.402%      1.376%\n",
      " 60      0.328%      1.687%\n",
      " 80      0.297%      2.033%\n",
      "100      0.269%      2.306%\n"
     ]
    }
   ],
   "source": [
    "import math as m\n",
    "\n",
    "# 对用户user推荐Top-N\n",
    "def recommend_tfidf_tag(user, N):\n",
    "    simpleTag=dict()\n",
    "    # 对Item进行打分，分数为所有的（用户对某标签使用的次数 wut, 乘以 商品被打上相同标签的次数 wti）之和\n",
    "    for tag, wut in user_tags[user].items(): # 用户使用标签t的次数\n",
    "        for item, wti in tag_items[tag].items(): #商品i被打过标签t的次数\n",
    "            if item in user_items[user]: continue\n",
    "            \n",
    "            #norm\n",
    "            norm = m.log(1 + len(tag_users[tag].items()))                \n",
    "            # 用户对该商品打过标签，就对该商品的SimpleTag进行累加\n",
    "            if item not in simpleTag: simpleTag[item] = 0\n",
    "            simpleTag[item] += wut * wti / norm\n",
    "    return sorted(simpleTag.items(), key=operator.itemgetter(1), reverse=True)[0:N]\n",
    "\n",
    "print(\"推荐结果评估(Tag Based - TFIDF)：\")\n",
    "print(\"%3s %10s %10s\" % ('N',\"精确率\",'召回率'))\n",
    "for n in [5,10,20,40,60,80,100]:\n",
    "    precision,recall = precisionAndRecall(n, recommend_tfidf_tag)\n",
    "    print(\"%3d %10.3f%% %10.3f%%\" % (n, precision * 100, recall * 100))"
   ]
  },
  {
   "cell_type": "code",
   "execution_count": null,
   "metadata": {},
   "outputs": [],
   "source": []
  }
 ],
 "metadata": {
  "kernelspec": {
   "display_name": "Python 3",
   "language": "python",
   "name": "python3"
  },
  "language_info": {
   "codemirror_mode": {
    "name": "ipython",
    "version": 3
   },
   "file_extension": ".py",
   "mimetype": "text/x-python",
   "name": "python",
   "nbconvert_exporter": "python",
   "pygments_lexer": "ipython3",
   "version": "3.8.5"
  }
 },
 "nbformat": 4,
 "nbformat_minor": 4
}
